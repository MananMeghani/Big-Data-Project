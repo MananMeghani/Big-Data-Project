{
 "cells": [
  {
   "cell_type": "code",
   "execution_count": 92,
   "metadata": {},
   "outputs": [],
   "source": [
    "from pyspark.ml import feature\n",
    "from pyspark.ml import clustering\n",
    "from pyspark.ml import Pipeline\n",
    "from pyspark.sql import functions as fn\n",
    "import numpy as np\n",
    "from pyspark.sql import SparkSession\n",
    "from pyspark.ml import feature, regression, evaluation, Pipeline\n",
    "from pyspark.sql import functions as fn, Row\n",
    "import matplotlib.pyplot as plt\n",
    "import pandas as pd\n",
    "from pyspark.sql.functions import concat_ws, col, lit\n",
    "from pyspark.ml.feature import Tokenizer\n",
    "from pyspark.ml.feature import CountVectorizer\n",
    "from pyspark.ml.feature import IDF\n",
    "import matplotlib.pyplot as plt\n",
    "import requests\n",
    "import seaborn as sns\n",
    "from scipy import stats\n",
    "from pyspark.ml.feature import VectorAssembler\n",
    "from pyspark.ml.feature import PCA\n",
    "from pyspark.ml.classification import NaiveBayes\n",
    "from pyspark.ml import Pipeline\n",
    "from pyspark.ml.feature import StandardScaler\n",
    "# seting master(\"local[*]\") enables multicore processing on all available logical cores on your machine\n",
    "spark = SparkSession.builder.master(\"local[*]\").getOrCreate()\n",
    "sc = spark.sparkContext\n"
   ]
  },
  {
   "cell_type": "code",
   "execution_count": 93,
   "metadata": {},
   "outputs": [],
   "source": [
    "data = spark.read.csv('/Users/harshita/Downloads/US_Accidents_Dec19.csv',header = True)"
   ]
  },
  {
   "cell_type": "code",
   "execution_count": 94,
   "metadata": {},
   "outputs": [
    {
     "name": "stdout",
     "output_type": "stream",
     "text": [
      "+----+--------+-----+--------+-------------------+-------------------+---------+----------+-------+-------+------------+--------------------+------+--------------------+----+------------+----------+-----+----------+-------+----------+------------+-------------------+--------------+-------------+-----------+------------+--------------+--------------+---------------+-----------------+-----------------+-------+-----+--------+--------+--------+-------+-------+----------+-------+-----+---------------+--------------+------------+--------------+--------------+-----------------+---------------------+\n",
      "|  ID|  Source|  TMC|Severity|         Start_Time|           End_Time|Start_Lat| Start_Lng|End_Lat|End_Lng|Distance(mi)|         Description|Number|              Street|Side|        City|    County|State|   Zipcode|Country|  Timezone|Airport_Code|  Weather_Timestamp|Temperature(F)|Wind_Chill(F)|Humidity(%)|Pressure(in)|Visibility(mi)|Wind_Direction|Wind_Speed(mph)|Precipitation(in)|Weather_Condition|Amenity| Bump|Crossing|Give_Way|Junction|No_Exit|Railway|Roundabout|Station| Stop|Traffic_Calming|Traffic_Signal|Turning_Loop|Sunrise_Sunset|Civil_Twilight|Nautical_Twilight|Astronomical_Twilight|\n",
      "+----+--------+-----+--------+-------------------+-------------------+---------+----------+-------+-------+------------+--------------------+------+--------------------+----+------------+----------+-----+----------+-------+----------+------------+-------------------+--------------+-------------+-----------+------------+--------------+--------------+---------------+-----------------+-----------------+-------+-----+--------+--------+--------+-------+-------+----------+-------+-----+---------------+--------------+------------+--------------+--------------+-----------------+---------------------+\n",
      "| A-1|MapQuest|201.0|       3|2016-02-08 05:46:00|2016-02-08 11:00:00|39.865147|-84.058723|   null|   null|        0.01|Right lane blocke...|  null|              I-70 E|   R|      Dayton|Montgomery|   OH|     45424|     US|US/Eastern|        KFFO|2016-02-08 05:58:00|          36.9|         null|       91.0|       29.68|          10.0|          Calm|           null|             0.02|       Light Rain|  False|False|   False|   False|   False|  False|  False|     False|  False|False|          False|         False|       False|         Night|         Night|            Night|                Night|\n",
      "| A-2|MapQuest|201.0|       2|2016-02-08 06:07:59|2016-02-08 06:37:59|39.928059|-82.831184|   null|   null|        0.01|Accident on Brice...|2584.0|            Brice Rd|   L|Reynoldsburg|  Franklin|   OH|43068-3402|     US|US/Eastern|        KCMH|2016-02-08 05:51:00|          37.9|         null|      100.0|       29.65|          10.0|          Calm|           null|              0.0|       Light Rain|  False|False|   False|   False|   False|  False|  False|     False|  False|False|          False|         False|       False|         Night|         Night|            Night|                  Day|\n",
      "| A-3|MapQuest|201.0|       2|2016-02-08 06:49:27|2016-02-08 07:19:27|39.063148|-84.032608|   null|   null|        0.01|Accident on OH-32...|  null|      State Route 32|   R|Williamsburg|  Clermont|   OH|     45176|     US|US/Eastern|        KI69|2016-02-08 06:56:00|          36.0|         33.3|      100.0|       29.67|          10.0|            SW|            3.5|             null|         Overcast|  False|False|   False|   False|   False|  False|  False|     False|  False|False|          False|          True|       False|         Night|         Night|              Day|                  Day|\n",
      "| A-4|MapQuest|201.0|       3|2016-02-08 07:23:34|2016-02-08 07:53:34|39.747753|-84.205582|   null|   null|        0.01|Accident on I-75 ...|  null|              I-75 S|   R|      Dayton|Montgomery|   OH|     45417|     US|US/Eastern|        KDAY|2016-02-08 07:38:00|          35.1|         31.0|       96.0|       29.64|           9.0|            SW|            4.6|             null|    Mostly Cloudy|  False|False|   False|   False|   False|  False|  False|     False|  False|False|          False|         False|       False|         Night|           Day|              Day|                  Day|\n",
      "| A-5|MapQuest|201.0|       2|2016-02-08 07:39:07|2016-02-08 08:09:07|39.627781|-84.188354|   null|   null|        0.01|Accident on McEwe...|  null|Miamisburg Center...|   R|      Dayton|Montgomery|   OH|     45459|     US|US/Eastern|        KMGY|2016-02-08 07:53:00|          36.0|         33.3|       89.0|       29.65|           6.0|            SW|            3.5|             null|    Mostly Cloudy|  False|False|   False|   False|   False|  False|  False|     False|  False|False|          False|          True|       False|           Day|           Day|              Day|                  Day|\n",
      "| A-6|MapQuest|201.0|       3|2016-02-08 07:44:26|2016-02-08 08:14:26| 40.10059|-82.925194|   null|   null|        0.01|Accident on I-270...|  null|      Westerville Rd|   R| Westerville|  Franklin|   OH|     43081|     US|US/Eastern|        KCMH|2016-02-08 07:51:00|          37.9|         35.5|       97.0|       29.63|           7.0|           SSW|            3.5|             0.03|       Light Rain|  False|False|   False|   False|   False|  False|  False|     False|  False|False|          False|         False|       False|           Day|           Day|              Day|                  Day|\n",
      "| A-7|MapQuest|201.0|       2|2016-02-08 07:59:35|2016-02-08 08:29:35|39.758274|-84.230507|   null|   null|         0.0|Accident on Oakri...| 376.0|      N Woodward Ave|   R|      Dayton|Montgomery|   OH|45417-2476|     US|US/Eastern|        KDAY|2016-02-08 07:56:00|          34.0|         31.0|      100.0|       29.66|           7.0|           WSW|            3.5|             null|         Overcast|  False|False|   False|   False|   False|  False|  False|     False|  False|False|          False|         False|       False|           Day|           Day|              Day|                  Day|\n",
      "| A-8|MapQuest|201.0|       3|2016-02-08 07:59:58|2016-02-08 08:29:58|39.770382|-84.194901|   null|   null|        0.01|Accident on I-75 ...|  null|           N Main St|   R|      Dayton|Montgomery|   OH|     45405|     US|US/Eastern|        KDAY|2016-02-08 07:56:00|          34.0|         31.0|      100.0|       29.66|           7.0|           WSW|            3.5|             null|         Overcast|  False|False|   False|   False|   False|  False|  False|     False|  False|False|          False|         False|       False|           Day|           Day|              Day|                  Day|\n",
      "| A-9|MapQuest|201.0|       2|2016-02-08 08:00:40|2016-02-08 08:30:40|39.778061|-84.172005|   null|   null|         0.0|Accident on Notre...|  99.0|      Notre Dame Ave|   L|      Dayton|Montgomery|   OH|45404-1923|     US|US/Eastern|        KFFO|2016-02-08 07:58:00|          33.3|         null|       99.0|       29.67|           5.0|            SW|            1.2|             null|    Mostly Cloudy|  False|False|   False|   False|   False|  False|  False|     False|  False|False|          False|         False|       False|           Day|           Day|              Day|                  Day|\n",
      "|A-10|MapQuest|201.0|       3|2016-02-08 08:10:04|2016-02-08 08:40:04| 40.10059|-82.925194|   null|   null|        0.01|Right hand should...|  null|      Westerville Rd|   R| Westerville|  Franklin|   OH|     43081|     US|US/Eastern|        KCMH|2016-02-08 08:28:00|          37.4|         33.8|      100.0|       29.62|           3.0|           SSW|            4.6|             0.02|       Light Rain|  False|False|   False|   False|   False|  False|  False|     False|  False|False|          False|         False|       False|           Day|           Day|              Day|                  Day|\n",
      "|A-11|MapQuest|201.0|       3|2016-02-08 08:14:42|2016-02-08 08:44:42|39.952812|-83.119293|   null|   null|        0.01|Accident on I-270...|  null|         Outerbelt S|   R|    Columbus|  Franklin|   OH|     43228|     US|US/Eastern|        KTZR|2016-02-08 07:50:00|          35.6|         30.7|       93.0|       29.64|           5.0|           WNW|            5.8|             null|             Rain|  False|False|   False|   False|   False|  False|  False|     False|  False|False|          False|         False|       False|           Day|           Day|              Day|                  Day|\n",
      "|A-12|MapQuest|241.0|       3|2016-02-08 08:21:27|2016-02-08 08:51:27|39.932709| -82.83091|   null|   null|        0.01|One lane blocked ...|  null|              I-70 E|   R|Reynoldsburg|  Franklin|   OH|     43068|     US|US/Eastern|        KCMH|2016-02-08 08:28:00|          37.4|         33.8|      100.0|       29.62|           3.0|           SSW|            4.6|             0.02|       Light Rain|  False|False|   False|   False|    True|  False|  False|     False|  False|False|          False|         False|       False|           Day|           Day|              Day|                  Day|\n",
      "|A-13|MapQuest|201.0|       2|2016-02-08 08:36:34|2016-02-08 09:06:34|39.737633|-84.149933|   null|   null|         0.0|Accident on Rever...|  99.0|      Watervliet Ave|   R|      Dayton|Montgomery|   OH|45420-1863|     US|US/Eastern|        KFFO|2016-02-08 08:28:00|          33.8|         null|      100.0|       29.63|           3.0|            SW|            2.3|             null|         Overcast|  False|False|   False|   False|   False|  False|  False|     False|  False|False|          False|         False|       False|           Day|           Day|              Day|                  Day|\n",
      "|A-14|MapQuest|201.0|       2|2016-02-08 08:37:07|2016-02-08 09:07:07| 39.79076|-84.241547|   null|   null|        0.01|Accident on Salem...|3198.0|           Salem Ave|   L|      Dayton|Montgomery|   OH|45406-2708|     US|US/Eastern|        KDAY|2016-02-08 08:56:00|          36.0|         31.1|       89.0|       29.65|          10.0|            NW|            5.8|             null|    Mostly Cloudy|  False|False|   False|   False|   False|  False|  False|     False|  False|False|          False|          True|       False|           Day|           Day|              Day|                  Day|\n",
      "|A-15|MapQuest|201.0|       2|2016-02-08 08:39:43|2016-02-08 09:09:43|39.972038|-82.913521|   null|   null|        0.01|Accident on OH-16...|3280.0|          E Broad St|   L|    Columbus|  Franklin|   OH|43213-1006|     US|US/Eastern|        KCMH|2016-02-08 08:28:00|          37.4|         33.8|      100.0|       29.62|           3.0|           SSW|            4.6|             0.02|       Light Rain|  False|False|   False|   False|   False|  False|  False|     False|  False|False|          False|          True|       False|           Day|           Day|              Day|                  Day|\n",
      "|A-16|MapQuest|201.0|       2|2016-02-08 08:43:20|2016-02-08 09:13:20|39.745888| -84.17041|   null|   null|        0.01|Accident on Wayne...| 100.0|         Glencoe Ave|   R|      Dayton|Montgomery|   OH|45410-1721|     US|US/Eastern|        KFFO|2016-02-08 08:28:00|          33.8|         null|      100.0|       29.63|           3.0|            SW|            2.3|             null|         Overcast|  False|False|   False|   False|   False|  False|  False|     False|  False|False|          False|         False|       False|           Day|           Day|              Day|                  Day|\n",
      "|A-17|MapQuest|201.0|       2|2016-02-08 08:53:17|2016-02-08 09:23:17|39.748329|-84.224007|   null|   null|        0.01|Accident on James...|  null|S James H McGee Blvd|   R|      Dayton|Montgomery|   OH|     45402|     US|US/Eastern|        KFFO|2016-02-08 08:58:00|          35.6|         null|       99.0|       29.65|           7.0|           WSW|            2.3|             null|    Mostly Cloudy|  False|False|   False|   False|   False|  False|  False|     False|  False|False|          False|         False|       False|           Day|           Day|              Day|                  Day|\n",
      "|A-18|MapQuest|201.0|       2|2016-02-08 09:24:37|2016-02-08 09:54:37|39.752174|-84.239952|   null|   null|         0.0|Accident on Delph...|3001.0|         Delphos Ave|   R|      Dayton|Montgomery|   OH|45417-1727|     US|US/Eastern|        KDAY|2016-02-08 08:56:00|          36.0|         31.1|       89.0|       29.65|          10.0|            NW|            5.8|             null|    Mostly Cloudy|  False|False|   False|   False|   False|  False|  False|     False|  False|False|          False|         False|       False|           Day|           Day|              Day|                  Day|\n",
      "|A-19|MapQuest|201.0|       2|2016-02-08 09:25:17|2016-02-08 09:55:17|39.740669|-84.184135|   null|   null|        0.01|Accident on Stewa...| 440.0|          Rubicon St|   L|      Dayton|Montgomery|   OH|45409-2659|     US|US/Eastern|        KFFO|2016-02-08 09:38:00|          37.4|         32.1|       93.0|       29.63|          10.0|           WSW|            6.9|             null|         Overcast|  False|False|    True|   False|   False|  False|  False|     False|  False|False|          False|          True|       False|           Day|           Day|              Day|                  Day|\n",
      "|A-20|MapQuest|201.0|       2|2016-02-08 09:35:35|2016-02-08 10:05:35|39.790703|-84.244461|   null|   null|        0.01|Accident on Hillc...|3499.0|     W Hillcrest Ave|   R|      Dayton|Montgomery|   OH|45406-2640|     US|US/Eastern|        KDAY|2016-02-08 09:56:00|          36.0|         30.3|       89.0|       29.65|          10.0|          West|            6.9|             null|    Mostly Cloudy|  False|False|   False|   False|   False|  False|  False|     False|  False|False|          False|         False|       False|           Day|           Day|              Day|                  Day|\n",
      "+----+--------+-----+--------+-------------------+-------------------+---------+----------+-------+-------+------------+--------------------+------+--------------------+----+------------+----------+-----+----------+-------+----------+------------+-------------------+--------------+-------------+-----------+------------+--------------+--------------+---------------+-----------------+-----------------+-------+-----+--------+--------+--------+-------+-------+----------+-------+-----+---------------+--------------+------------+--------------+--------------+-----------------+---------------------+\n",
      "only showing top 20 rows\n",
      "\n"
     ]
    }
   ],
   "source": [
    "import pyspark.sql.functions as F\n",
    "def drop_null_columns(df):\n",
    "    null_counts = df.select([F.count(F.when(F.col(c).isNull(), c)).alias(c) for c in df.columns]).collect()[0].asDict()\n",
    "    to_drop = [k for k, v in null_counts.items() if v == data.count()]\n",
    "    df = df.drop(*to_drop)\n",
    "    return df\n",
    "\n",
    "# Drops column b2, because it contains null values\n",
    "drop_null_columns(data).show()\n"
   ]
  },
  {
   "cell_type": "code",
   "execution_count": 95,
   "metadata": {},
   "outputs": [
    {
     "data": {
      "image/png": "[encoded data removed]",
      "text/plain": [
       "<Figure size 432x288 with 1 Axes>"
      ]
     },
     "metadata": {},
     "output_type": "display_data"
    }
   ],
   "source": [
    "source = data.select(\"Source\").collect()\n",
    "source = [s.Source for s in source]\n",
    "sns.countplot(x= source)\n",
    "sns.despine(left = True)"
   ]
  },
  {
   "cell_type": "code",
   "execution_count": 96,
   "metadata": {},
   "outputs": [
    {
     "name": "stdout",
     "output_type": "stream",
     "text": [
      "+---+------+------+--------+----------+--------+---------+---------+-------+-------+------------+-----------+-------+------+----+----+------+-----+-------+-------+--------+------------+-----------------+--------------+-------------+-----------+------------+--------------+--------------+---------------+-----------------+-----------------+-------+----+--------+--------+--------+-------+-------+----------+-------+----+---------------+--------------+------------+--------------+--------------+-----------------+---------------------+\n",
      "| ID|Source|   TMC|Severity|Start_Time|End_Time|Start_Lat|Start_Lng|End_Lat|End_Lng|Distance(mi)|Description| Number|Street|Side|City|County|State|Zipcode|Country|Timezone|Airport_Code|Weather_Timestamp|Temperature(F)|Wind_Chill(F)|Humidity(%)|Pressure(in)|Visibility(mi)|Wind_Direction|Wind_Speed(mph)|Precipitation(in)|Weather_Condition|Amenity|Bump|Crossing|Give_Way|Junction|No_Exit|Railway|Roundabout|Station|Stop|Traffic_Calming|Traffic_Signal|Turning_Loop|Sunrise_Sunset|Civil_Twilight|Nautical_Twilight|Astronomical_Twilight|\n",
      "+---+------+------+--------+----------+--------+---------+---------+-------+-------+------------+-----------+-------+------+----+----+------+-----+-------+-------+--------+------------+-----------------+--------------+-------------+-----------+------------+--------------+--------------+---------------+-----------------+-----------------+-------+----+--------+--------+--------+-------+-------+----------+-------+----+---------------+--------------+------------+--------------+--------------+-----------------+---------------------+\n",
      "|  0|     0|728071|       0|         0|       0|        0|        0|2246264|2246264|           0|          1|1917605|     0|   0|  83|     0|    0|    880|      0|    3163|        5691|            36705|         56063|      1852623|      59173|       48142|         65691|         45101|         440840|          1998358|            65932|      0|   0|       0|       0|       0|      0|      0|         0|      0|   0|              0|             0|           0|            93|            93|               93|                   93|\n",
      "+---+------+------+--------+----------+--------+---------+---------+-------+-------+------------+-----------+-------+------+----+----+------+-----+-------+-------+--------+------------+-----------------+--------------+-------------+-----------+------------+--------------+--------------+---------------+-----------------+-----------------+-------+----+--------+--------+--------+-------+-------+----------+-------+----+---------------+--------------+------------+--------------+--------------+-----------------+---------------------+\n",
      "\n"
     ]
    }
   ],
   "source": [
    "#na values in each column\n",
    "from pyspark.sql.functions import isnan, when, count, col\n",
    "data.select([count(when(isnan(c) | col(c).isNull(), c)).alias(c) for c in data.columns]).show()"
   ]
  },
  {
   "cell_type": "code",
   "execution_count": 97,
   "metadata": {},
   "outputs": [],
   "source": [
    "data = data.drop('End_Lat')\n",
    "data = data.drop('End_Lng')"
   ]
  },
  {
   "cell_type": "code",
   "execution_count": null,
   "metadata": {
    "scrolled": true
   },
   "outputs": [],
   "source": []
  },
  {
   "cell_type": "code",
   "execution_count": 98,
   "metadata": {},
   "outputs": [],
   "source": [
    "from pyspark.sql.functions import mean as _mean, stddev as _stddev, col\n",
    "col_list = ['Distance(mi)','Temperature(F)','Wind_Chill(F)','Humidity(%)','Pressure(in)','Visibility(mi)','Wind_Speed(mph)','Precipitation(in)']\n",
    "df_float_mean = data.select([_mean(col(c)).alias('mean_'+str(c)) for c in col_list])"
   ]
  },
  {
   "cell_type": "code",
   "execution_count": 99,
   "metadata": {},
   "outputs": [],
   "source": [
    "mean_Distance = df_float_mean.select('mean_Distance(mi)').collect()[0]['mean_Distance(mi)']\n",
    "mean_Temperature = df_float_mean.select('mean_Temperature(F)').collect()[0]['mean_Temperature(F)']\n",
    "mean_Wind_Chill = df_float_mean.select('mean_Wind_Chill(F)').collect()[0]['mean_Wind_Chill(F)']\n",
    "mean_Humidity = df_float_mean.select('mean_Humidity(%)').collect()[0]['mean_Humidity(%)']\n",
    "mean_Pressure = df_float_mean.select('mean_Pressure(in)').collect()[0]['mean_Pressure(in)']\n",
    "mean_Visibility = df_float_mean.select('mean_Visibility(mi)').collect()[0]['mean_Visibility(mi)']\n",
    "mean_Wind_Speed = df_float_mean.select('mean_Wind_Speed(mph)').collect()[0]['mean_Wind_Speed(mph)']\n",
    "mean_Precipitation = df_float_mean.select('mean_Precipitation(in)').collect()[0]['mean_Precipitation(in)']"
   ]
  },
  {
   "cell_type": "code",
   "execution_count": 9,
   "metadata": {},
   "outputs": [],
   "source": [
    "# from pyspark.sql.window import Window\n",
    "# w = Window().partitionBy(\"County\")\n",
    "\n",
    "# from pyspark.sql.functions import avg, pow, sqrt\n",
    "# def stddev_pop_w(col, w):\n",
    "#     return sqrt(avg(col * col).over(w) - pow(avg(col).over(w), 2))\n",
    "\n",
    "\n",
    "# data = (data\n",
    "#     .withColumn(\"mean_Temp\", avg(\"Temperature(F)\").over(w)))\n",
    "\n",
    "# def select_county_mean(county):\n",
    "#     #return data.filter(col('County')==county).first()['mean_Temp']\n",
    "#     return county\n",
    "    \n"
   ]
  },
  {
   "cell_type": "code",
   "execution_count": 101,
   "metadata": {},
   "outputs": [],
   "source": [
    "data = data.fillna({'Temperature(F)':mean_Temperature,'Wind_Chill(F)':mean_Wind_Chill,'Humidity(%)':mean_Humidity,'Pressure(in)':mean_Pressure,'Visibility(mi)':mean_Visibility,'Wind_Speed(mph)':mean_Wind_Speed,'Precipitation(in)':mean_Precipitation})"
   ]
  },
  {
   "cell_type": "code",
   "execution_count": 102,
   "metadata": {},
   "outputs": [
    {
     "name": "stdout",
     "output_type": "stream",
     "text": [
      "+---+------+------+--------+----------+--------+---------+---------+------------+-----------+-------+------+----+----+------+-----+-------+-------+--------+------------+-----------------+--------------+-------------+-----------+------------+--------------+--------------+---------------+-----------------+-----------------+-------+----+--------+--------+--------+-------+-------+----------+-------+----+---------------+--------------+------------+--------------+--------------+-----------------+---------------------+\n",
      "| ID|Source|   TMC|Severity|Start_Time|End_Time|Start_Lat|Start_Lng|Distance(mi)|Description| Number|Street|Side|City|County|State|Zipcode|Country|Timezone|Airport_Code|Weather_Timestamp|Temperature(F)|Wind_Chill(F)|Humidity(%)|Pressure(in)|Visibility(mi)|Wind_Direction|Wind_Speed(mph)|Precipitation(in)|Weather_Condition|Amenity|Bump|Crossing|Give_Way|Junction|No_Exit|Railway|Roundabout|Station|Stop|Traffic_Calming|Traffic_Signal|Turning_Loop|Sunrise_Sunset|Civil_Twilight|Nautical_Twilight|Astronomical_Twilight|\n",
      "+---+------+------+--------+----------+--------+---------+---------+------------+-----------+-------+------+----+----+------+-----+-------+-------+--------+------------+-----------------+--------------+-------------+-----------+------------+--------------+--------------+---------------+-----------------+-----------------+-------+----+--------+--------+--------+-------+-------+----------+-------+----+---------------+--------------+------------+--------------+--------------+-----------------+---------------------+\n",
      "|  0|     0|728071|       0|         0|       0|        0|        0|           0|          1|1917605|     0|   0|  83|     0|    0|    880|      0|    3163|        5691|            36705|             0|            0|          0|           0|             0|         45101|              0|                0|            65932|      0|   0|       0|       0|       0|      0|      0|         0|      0|   0|              0|             0|           0|            93|            93|               93|                   93|\n",
      "+---+------+------+--------+----------+--------+---------+---------+------------+-----------+-------+------+----+----+------+-----+-------+-------+--------+------------+-----------------+--------------+-------------+-----------+------------+--------------+--------------+---------------+-----------------+-----------------+-------+----+--------+--------+--------+-------+-------+----------+-------+----+---------------+--------------+------------+--------------+--------------+-----------------+---------------------+\n",
      "\n"
     ]
    }
   ],
   "source": [
    "#na values in each column\n",
    "data.select([count(when(isnan(c) | col(c).isNull(), c)).alias(c) for c in data.columns]).show()"
   ]
  },
  {
   "cell_type": "code",
   "execution_count": 103,
   "metadata": {},
   "outputs": [],
   "source": [
    "data = data.drop('Number')\n",
    "data = data.na.drop(subset=[\"City\"])\n",
    "data = data.na.drop(subset=[\"State\"])\n",
    "data = data.na.drop(subset=[\"Zipcode\"])\n",
    "data = data.na.drop(subset=[\"Timezone\"])\n",
    "data = data.na.drop(subset=[\"Airport_code\"])\n",
    "data = data.na.drop(subset=[\"Weather_Timestamp\"])\n",
    "data = data.na.drop(subset=[\"Sunrise_Sunset\"])\n",
    "data = data.na.drop(subset=[\"Civil_Twilight\"])\n",
    "data = data.na.drop(subset=[\"Nautical_Twilight\"])\n",
    "data = data.na.drop(subset=[\"Astronomical_Twilight\"])\n",
    "data = data.na.drop(subset=[\"Wind_Direction\"])\n",
    "data = data.na.drop(subset=[\"Weather_Condition\"])\n",
    "data = data.na.drop(subset=[\"TMC\"])\n",
    "data = data.na.drop(subset=[\"Description\"])"
   ]
  },
  {
   "cell_type": "code",
   "execution_count": null,
   "metadata": {},
   "outputs": [],
   "source": []
  },
  {
   "cell_type": "code",
   "execution_count": 104,
   "metadata": {},
   "outputs": [],
   "source": [
    "\n",
    "# num_Acc = data.groupBy(\"State\").agg(count(\"ID\")).alias(\"state_count\").toDF(\"State\",\"Count_state\").toPandas()\n",
    "# num_Acc\n",
    "\n",
    "num_Acc = data.groupBy('State').count().alias(\"counts\")\n",
    "# plt.figure(figsize=(16,6))\n",
    "# sns.set(style=\"white\")\n",
    "# g= sns.barplot(x=\"State\",y=\"Count\",data=new_Acc,color=(0.21569, 0.21569 ,0.21569))\n",
    "\n",
    "# g.set_xticklabels(rotation=90,labels=new_Acc['State'])\n",
    "# g.set(yticklabels=[])\n",
    "# g.set_ylabel('')\n",
    "# g.axes.set_title(\"Number of Reviews per condition\",fontsize=20)\n",
    "# g.set_xlabel('Conditions',fontsize=14)\n",
    "# sns.despine(left=True)\n",
    "\n",
    "# locs, labels = plt.xticks() # get the current tick locations and labels\n",
    "\n",
    "# for loc, label in zip(locs, labels):\n",
    "#     count = conditionDF.iloc[loc].usefulCount\n",
    "#     plt.text(loc, count-8, '{:0.0f}'.format(count), ha='center', va='bottom' ,color = 'black',size=13)\n",
    "\n",
    "\n",
    "\n",
    "# plt.figure(figsize=(16,6))\n",
    "# g = sns.countplot(x= acc_state)\n",
    "# g.set_xticklabels(rotation=90, labels = g.get_xticklabels())\n",
    "# sns.despine(left = True)\n",
    "# locs, labels = plt.xticks() # get the current tick locations and labels\n",
    "num_Acc= num_Acc.toDF('State','count_state').toPandas()"
   ]
  },
  {
   "cell_type": "code",
   "execution_count": 105,
   "metadata": {},
   "outputs": [
    {
     "data": {
      "text/html": [
       "<div>\n",
       "<style scoped>\n",
       "    .dataframe tbody tr th:only-of-type {\n",
       "        vertical-align: middle;\n",
       "    }\n",
       "\n",
       "    .dataframe tbody tr th {\n",
       "        vertical-align: top;\n",
       "    }\n",
       "\n",
       "    .dataframe thead th {\n",
       "        text-align: right;\n",
       "    }\n",
       "</style>\n",
       "<table border=\"1\" class=\"dataframe\">\n",
       "  <thead>\n",
       "    <tr style=\"text-align: right;\">\n",
       "      <th></th>\n",
       "      <th>State</th>\n",
       "      <th>count_state</th>\n",
       "    </tr>\n",
       "  </thead>\n",
       "  <tbody>\n",
       "    <tr>\n",
       "      <td>0</td>\n",
       "      <td>SC</td>\n",
       "      <td>137754</td>\n",
       "    </tr>\n",
       "    <tr>\n",
       "      <td>1</td>\n",
       "      <td>AZ</td>\n",
       "      <td>47438</td>\n",
       "    </tr>\n",
       "    <tr>\n",
       "      <td>2</td>\n",
       "      <td>LA</td>\n",
       "      <td>48746</td>\n",
       "    </tr>\n",
       "    <tr>\n",
       "      <td>3</td>\n",
       "      <td>MN</td>\n",
       "      <td>42157</td>\n",
       "    </tr>\n",
       "    <tr>\n",
       "      <td>4</td>\n",
       "      <td>NJ</td>\n",
       "      <td>32356</td>\n",
       "    </tr>\n",
       "    <tr>\n",
       "      <td>5</td>\n",
       "      <td>DC</td>\n",
       "      <td>1886</td>\n",
       "    </tr>\n",
       "    <tr>\n",
       "      <td>6</td>\n",
       "      <td>OR</td>\n",
       "      <td>17552</td>\n",
       "    </tr>\n",
       "    <tr>\n",
       "      <td>7</td>\n",
       "      <td>VA</td>\n",
       "      <td>59098</td>\n",
       "    </tr>\n",
       "    <tr>\n",
       "      <td>8</td>\n",
       "      <td>RI</td>\n",
       "      <td>7246</td>\n",
       "    </tr>\n",
       "    <tr>\n",
       "      <td>9</td>\n",
       "      <td>KY</td>\n",
       "      <td>15415</td>\n",
       "    </tr>\n",
       "    <tr>\n",
       "      <td>10</td>\n",
       "      <td>WY</td>\n",
       "      <td>163</td>\n",
       "    </tr>\n",
       "    <tr>\n",
       "      <td>11</td>\n",
       "      <td>NH</td>\n",
       "      <td>3623</td>\n",
       "    </tr>\n",
       "    <tr>\n",
       "      <td>12</td>\n",
       "      <td>MI</td>\n",
       "      <td>69828</td>\n",
       "    </tr>\n",
       "    <tr>\n",
       "      <td>13</td>\n",
       "      <td>NV</td>\n",
       "      <td>6348</td>\n",
       "    </tr>\n",
       "    <tr>\n",
       "      <td>14</td>\n",
       "      <td>WI</td>\n",
       "      <td>10636</td>\n",
       "    </tr>\n",
       "    <tr>\n",
       "      <td>15</td>\n",
       "      <td>ID</td>\n",
       "      <td>144</td>\n",
       "    </tr>\n",
       "    <tr>\n",
       "      <td>16</td>\n",
       "      <td>CA</td>\n",
       "      <td>440179</td>\n",
       "    </tr>\n",
       "    <tr>\n",
       "      <td>17</td>\n",
       "      <td>NE</td>\n",
       "      <td>21118</td>\n",
       "    </tr>\n",
       "    <tr>\n",
       "      <td>18</td>\n",
       "      <td>CT</td>\n",
       "      <td>14738</td>\n",
       "    </tr>\n",
       "    <tr>\n",
       "      <td>19</td>\n",
       "      <td>MT</td>\n",
       "      <td>48</td>\n",
       "    </tr>\n",
       "    <tr>\n",
       "      <td>20</td>\n",
       "      <td>NC</td>\n",
       "      <td>119389</td>\n",
       "    </tr>\n",
       "    <tr>\n",
       "      <td>21</td>\n",
       "      <td>VT</td>\n",
       "      <td>301</td>\n",
       "    </tr>\n",
       "    <tr>\n",
       "      <td>22</td>\n",
       "      <td>MD</td>\n",
       "      <td>22624</td>\n",
       "    </tr>\n",
       "    <tr>\n",
       "      <td>23</td>\n",
       "      <td>DE</td>\n",
       "      <td>3242</td>\n",
       "    </tr>\n",
       "    <tr>\n",
       "      <td>24</td>\n",
       "      <td>MO</td>\n",
       "      <td>17136</td>\n",
       "    </tr>\n",
       "    <tr>\n",
       "      <td>25</td>\n",
       "      <td>IL</td>\n",
       "      <td>54271</td>\n",
       "    </tr>\n",
       "    <tr>\n",
       "      <td>26</td>\n",
       "      <td>ME</td>\n",
       "      <td>56</td>\n",
       "    </tr>\n",
       "    <tr>\n",
       "      <td>27</td>\n",
       "      <td>WA</td>\n",
       "      <td>44037</td>\n",
       "    </tr>\n",
       "    <tr>\n",
       "      <td>28</td>\n",
       "      <td>ND</td>\n",
       "      <td>13</td>\n",
       "    </tr>\n",
       "    <tr>\n",
       "      <td>29</td>\n",
       "      <td>MS</td>\n",
       "      <td>4228</td>\n",
       "    </tr>\n",
       "    <tr>\n",
       "      <td>30</td>\n",
       "      <td>AL</td>\n",
       "      <td>33071</td>\n",
       "    </tr>\n",
       "    <tr>\n",
       "      <td>31</td>\n",
       "      <td>IN</td>\n",
       "      <td>22435</td>\n",
       "    </tr>\n",
       "    <tr>\n",
       "      <td>32</td>\n",
       "      <td>OH</td>\n",
       "      <td>40959</td>\n",
       "    </tr>\n",
       "    <tr>\n",
       "      <td>33</td>\n",
       "      <td>TN</td>\n",
       "      <td>49991</td>\n",
       "    </tr>\n",
       "    <tr>\n",
       "      <td>34</td>\n",
       "      <td>IA</td>\n",
       "      <td>7571</td>\n",
       "    </tr>\n",
       "    <tr>\n",
       "      <td>35</td>\n",
       "      <td>NM</td>\n",
       "      <td>4118</td>\n",
       "    </tr>\n",
       "    <tr>\n",
       "      <td>36</td>\n",
       "      <td>PA</td>\n",
       "      <td>78047</td>\n",
       "    </tr>\n",
       "    <tr>\n",
       "      <td>37</td>\n",
       "      <td>SD</td>\n",
       "      <td>6</td>\n",
       "    </tr>\n",
       "    <tr>\n",
       "      <td>38</td>\n",
       "      <td>NY</td>\n",
       "      <td>108133</td>\n",
       "    </tr>\n",
       "    <tr>\n",
       "      <td>39</td>\n",
       "      <td>TX</td>\n",
       "      <td>252632</td>\n",
       "    </tr>\n",
       "    <tr>\n",
       "      <td>40</td>\n",
       "      <td>WV</td>\n",
       "      <td>292</td>\n",
       "    </tr>\n",
       "    <tr>\n",
       "      <td>41</td>\n",
       "      <td>GA</td>\n",
       "      <td>62821</td>\n",
       "    </tr>\n",
       "    <tr>\n",
       "      <td>42</td>\n",
       "      <td>MA</td>\n",
       "      <td>27350</td>\n",
       "    </tr>\n",
       "    <tr>\n",
       "      <td>43</td>\n",
       "      <td>KS</td>\n",
       "      <td>2249</td>\n",
       "    </tr>\n",
       "    <tr>\n",
       "      <td>44</td>\n",
       "      <td>FL</td>\n",
       "      <td>172333</td>\n",
       "    </tr>\n",
       "    <tr>\n",
       "      <td>45</td>\n",
       "      <td>CO</td>\n",
       "      <td>26718</td>\n",
       "    </tr>\n",
       "    <tr>\n",
       "      <td>46</td>\n",
       "      <td>AR</td>\n",
       "      <td>375</td>\n",
       "    </tr>\n",
       "    <tr>\n",
       "      <td>47</td>\n",
       "      <td>OK</td>\n",
       "      <td>48593</td>\n",
       "    </tr>\n",
       "    <tr>\n",
       "      <td>48</td>\n",
       "      <td>UT</td>\n",
       "      <td>17335</td>\n",
       "    </tr>\n",
       "  </tbody>\n",
       "</table>\n",
       "</div>"
      ],
      "text/plain": [
       "   State  count_state\n",
       "0     SC       137754\n",
       "1     AZ        47438\n",
       "2     LA        48746\n",
       "3     MN        42157\n",
       "4     NJ        32356\n",
       "5     DC         1886\n",
       "6     OR        17552\n",
       "7     VA        59098\n",
       "8     RI         7246\n",
       "9     KY        15415\n",
       "10    WY          163\n",
       "11    NH         3623\n",
       "12    MI        69828\n",
       "13    NV         6348\n",
       "14    WI        10636\n",
       "15    ID          144\n",
       "16    CA       440179\n",
       "17    NE        21118\n",
       "18    CT        14738\n",
       "19    MT           48\n",
       "20    NC       119389\n",
       "21    VT          301\n",
       "22    MD        22624\n",
       "23    DE         3242\n",
       "24    MO        17136\n",
       "25    IL        54271\n",
       "26    ME           56\n",
       "27    WA        44037\n",
       "28    ND           13\n",
       "29    MS         4228\n",
       "30    AL        33071\n",
       "31    IN        22435\n",
       "32    OH        40959\n",
       "33    TN        49991\n",
       "34    IA         7571\n",
       "35    NM         4118\n",
       "36    PA        78047\n",
       "37    SD            6\n",
       "38    NY       108133\n",
       "39    TX       252632\n",
       "40    WV          292\n",
       "41    GA        62821\n",
       "42    MA        27350\n",
       "43    KS         2249\n",
       "44    FL       172333\n",
       "45    CO        26718\n",
       "46    AR          375\n",
       "47    OK        48593\n",
       "48    UT        17335"
      ]
     },
     "execution_count": 105,
     "metadata": {},
     "output_type": "execute_result"
    }
   ],
   "source": [
    "num_Acc"
   ]
  },
  {
   "cell_type": "code",
   "execution_count": 106,
   "metadata": {},
   "outputs": [
    {
     "data": {
      "image/png": "[encoded data removed]",
      "text/plain": [
       "<Figure size 1800x1080 with 1 Axes>"
      ]
     },
     "metadata": {},
     "output_type": "display_data"
    }
   ],
   "source": [
    "plt.figure(figsize=(25,15))\n",
    "sns.set(style=\"white\")\n",
    "g= sns.barplot(x=\"State\",y=\"count_state\",data=num_Acc,color=(0.21569, 0.21569 ,0.21569))\n",
    "\n",
    "g.set_xticklabels(rotation=90,labels=num_Acc['State'])\n",
    "g.set(yticklabels=[])\n",
    "g.set_ylabel('')\n",
    "g.axes.set_title(\"Number of Acidents per State\",fontsize=20)\n",
    "g.set_xlabel('State',fontsize=14)\n",
    "sns.despine(left=True)\n",
    "\n",
    "locs, labels = plt.xticks() # get the current tick locations and labels\n",
    "\n",
    "for loc, label in zip(locs, labels):\n",
    "    count = num_Acc.iloc[loc].count_state\n",
    "    plt.text(loc, count-8, '{:0.0f}'.format(count), ha='center', va='bottom' ,color = 'black',size=11)\n",
    "\n"
   ]
  },
  {
   "cell_type": "code",
   "execution_count": 107,
   "metadata": {},
   "outputs": [
    {
     "data": {
      "text/plain": [
       "['ID',\n",
       " 'Source',\n",
       " 'TMC',\n",
       " 'Severity',\n",
       " 'Start_Time',\n",
       " 'End_Time',\n",
       " 'Start_Lat',\n",
       " 'Start_Lng',\n",
       " 'Distance(mi)',\n",
       " 'Description',\n",
       " 'Street',\n",
       " 'Side',\n",
       " 'City',\n",
       " 'County',\n",
       " 'State',\n",
       " 'Zipcode',\n",
       " 'Country',\n",
       " 'Timezone',\n",
       " 'Airport_Code',\n",
       " 'Weather_Timestamp',\n",
       " 'Temperature(F)',\n",
       " 'Wind_Chill(F)',\n",
       " 'Humidity(%)',\n",
       " 'Pressure(in)',\n",
       " 'Visibility(mi)',\n",
       " 'Wind_Direction',\n",
       " 'Wind_Speed(mph)',\n",
       " 'Precipitation(in)',\n",
       " 'Weather_Condition',\n",
       " 'Amenity',\n",
       " 'Bump',\n",
       " 'Crossing',\n",
       " 'Give_Way',\n",
       " 'Junction',\n",
       " 'No_Exit',\n",
       " 'Railway',\n",
       " 'Roundabout',\n",
       " 'Station',\n",
       " 'Stop',\n",
       " 'Traffic_Calming',\n",
       " 'Traffic_Signal',\n",
       " 'Turning_Loop',\n",
       " 'Sunrise_Sunset',\n",
       " 'Civil_Twilight',\n",
       " 'Nautical_Twilight',\n",
       " 'Astronomical_Twilight']"
      ]
     },
     "execution_count": 107,
     "metadata": {},
     "output_type": "execute_result"
    }
   ],
   "source": [
    "#Top 20 Countys with max accidents \n",
    "data.columns"
   ]
  },
  {
   "cell_type": "code",
   "execution_count": 108,
   "metadata": {},
   "outputs": [],
   "source": [
    "#Top 20 Counts with max accidents \n",
    "coynty_max = data.groupBy('County').count().alias(\"count_county\")\n",
    "coynty_max= coynty_max.toDF('County','count_county').toPandas().sort_values(by = 'count_county',ascending = False)[:20]"
   ]
  },
  {
   "cell_type": "code",
   "execution_count": 109,
   "metadata": {},
   "outputs": [
    {
     "data": {
      "image/png": "[encoded data removed]",
      "text/plain": [
       "<Figure size 1800x1080 with 1 Axes>"
      ]
     },
     "metadata": {},
     "output_type": "display_data"
    }
   ],
   "source": [
    "plt.figure(figsize=(25,15))\n",
    "sns.set(style=\"white\")\n",
    "g= sns.barplot(x=\"County\",y=\"count_county\",data=coynty_max,color=(0.21569, 0.21569 ,0.21569))\n",
    "\n",
    "g.set_xticklabels(rotation=90,labels=coynty_max['County'])\n",
    "g.set(yticklabels=[])\n",
    "g.set_ylabel('')\n",
    "g.axes.set_title(\"Countys with max num of accidents\",fontsize=20)\n",
    "g.set_xlabel('County',fontsize=14)\n",
    "sns.despine(left=True)"
   ]
  },
  {
   "cell_type": "code",
   "execution_count": 110,
   "metadata": {},
   "outputs": [
    {
     "data": {
      "image/png": "[encoded data removed]",
      "text/plain": [
       "<Figure size 1800x1080 with 1 Axes>"
      ]
     },
     "metadata": {},
     "output_type": "display_data"
    }
   ],
   "source": [
    "#Top 20 Weather_Conditions with max accidents \n",
    "conditions = data.groupBy('Weather_Condition').count().alias(\"count_weather\")\n",
    "conditions= conditions.toDF('Weather_Condition','count_weather').toPandas().sort_values(by = 'count_weather',ascending = False)[:20]\n",
    "plt.figure(figsize=(25,15))\n",
    "sns.set(style=\"white\")\n",
    "g= sns.barplot(x=\"Weather_Condition\",y=\"count_weather\",data=conditions,color=(0.21569, 0.21569 ,0.21569))\n",
    "\n",
    "g.set_xticklabels(rotation=90,labels=conditions['Weather_Condition'])\n",
    "g.set(yticklabels=[])\n",
    "g.set_ylabel('')\n",
    "g.axes.set_title(\"Countys with max num of accidents\",fontsize=20)\n",
    "g.set_xlabel('Weather_Condition',fontsize=14)\n",
    "sns.despine(left=True)"
   ]
  },
  {
   "cell_type": "code",
   "execution_count": 111,
   "metadata": {},
   "outputs": [
    {
     "data": {
      "application/vnd.plotly.v1+json": {
       "config": {
        "plotlyServerURL": "https://plot.ly"
       },
       "data": [
        {
         "colorbar": {
          "title": {
           "text": "Count"
          }
         },
         "colorscale": [
          [
           0,
           "rgb(241, 236, 236)"
          ],
          [
           0.09090909090909091,
           "rgb(230, 209, 203)"
          ],
          [
           0.18181818181818182,
           "rgb(221, 182, 170)"
          ],
          [
           0.2727272727272727,
           "rgb(213, 156, 137)"
          ],
          [
           0.36363636363636365,
           "rgb(205, 129, 103)"
          ],
          [
           0.45454545454545453,
           "rgb(196, 102, 73)"
          ],
          [
           0.5454545454545454,
           "rgb(186, 74, 47)"
          ],
          [
           0.6363636363636364,
           "rgb(172, 44, 36)"
          ],
          [
           0.7272727272727273,
           "rgb(149, 19, 39)"
          ],
          [
           0.8181818181818182,
           "rgb(120, 14, 40)"
          ],
          [
           0.9090909090909091,
           "rgb(89, 13, 31)"
          ],
          [
           1,
           "rgb(60, 9, 17)"
          ]
         ],
         "locationmode": "USA-states",
         "locations": [
          "CA",
          "TX",
          "FL",
          "SC",
          "NC",
          "NY",
          "PA",
          "MI",
          "GA",
          "VA",
          "IL",
          "TN",
          "LA",
          "OK",
          "AZ",
          "WA",
          "MN",
          "OH",
          "AL",
          "NJ",
          "MA",
          "CO",
          "MD",
          "IN",
          "NE",
          "OR",
          "UT",
          "MO",
          "KY",
          "CT",
          "WI",
          "IA",
          "RI",
          "NV",
          "MS",
          "NM",
          "NH",
          "DE",
          "KS",
          "DC",
          "AR",
          "VT",
          "WV",
          "WY",
          "ID",
          "ME",
          "MT",
          "ND",
          "SD"
         ],
         "type": "choropleth",
         "z": [
          440179,
          252632,
          172333,
          137754,
          119389,
          108133,
          78047,
          69828,
          62821,
          59098,
          54271,
          49991,
          48746,
          48593,
          47438,
          44037,
          42157,
          40959,
          33071,
          32356,
          27350,
          26718,
          22624,
          22435,
          21118,
          17552,
          17335,
          17136,
          15415,
          14738,
          10636,
          7571,
          7246,
          6348,
          4228,
          4118,
          3623,
          3242,
          2249,
          1886,
          375,
          301,
          292,
          163,
          144,
          56,
          48,
          13,
          6
         ]
        }
       ],
       "layout": {
        "geo": {
         "scope": "usa"
        },
        "template": {
         "data": {
          "bar": [
           {
            "error_x": {
             "color": "#2a3f5f"
            },
            "error_y": {
             "color": "#2a3f5f"
            },
            "marker": {
             "line": {
              "color": "#E5ECF6",
              "width": 0.5
             }
            },
            "type": "bar"
           }
          ],
          "barpolar": [
           {
            "marker": {
             "line": {
              "color": "#E5ECF6",
              "width": 0.5
             }
            },
            "type": "barpolar"
           }
          ],
          "carpet": [
           {
            "aaxis": {
             "endlinecolor": "#2a3f5f",
             "gridcolor": "white",
             "linecolor": "white",
             "minorgridcolor": "white",
             "startlinecolor": "#2a3f5f"
            },
            "baxis": {
             "endlinecolor": "#2a3f5f",
             "gridcolor": "white",
             "linecolor": "white",
             "minorgridcolor": "white",
             "startlinecolor": "#2a3f5f"
            },
            "type": "carpet"
           }
          ],
          "choropleth": [
           {
            "colorbar": {
             "outlinewidth": 0,
             "ticks": ""
            },
            "type": "choropleth"
           }
          ],
          "contour": [
           {
            "colorbar": {
             "outlinewidth": 0,
             "ticks": ""
            },
            "colorscale": [
             [
              0,
              "#0d0887"
             ],
             [
              0.1111111111111111,
              "#46039f"
             ],
             [
              0.2222222222222222,
              "#7201a8"
             ],
             [
              0.3333333333333333,
              "#9c179e"
             ],
             [
              0.4444444444444444,
              "#bd3786"
             ],
             [
              0.5555555555555556,
              "#d8576b"
             ],
             [
              0.6666666666666666,
              "#ed7953"
             ],
             [
              0.7777777777777778,
              "#fb9f3a"
             ],
             [
              0.8888888888888888,
              "#fdca26"
             ],
             [
              1,
              "#f0f921"
             ]
            ],
            "type": "contour"
           }
          ],
          "contourcarpet": [
           {
            "colorbar": {
             "outlinewidth": 0,
             "ticks": ""
            },
            "type": "contourcarpet"
           }
          ],
          "heatmap": [
           {
            "colorbar": {
             "outlinewidth": 0,
             "ticks": ""
            },
            "colorscale": [
             [
              0,
              "#0d0887"
             ],
             [
              0.1111111111111111,
              "#46039f"
             ],
             [
              0.2222222222222222,
              "#7201a8"
             ],
             [
              0.3333333333333333,
              "#9c179e"
             ],
             [
              0.4444444444444444,
              "#bd3786"
             ],
             [
              0.5555555555555556,
              "#d8576b"
             ],
             [
              0.6666666666666666,
              "#ed7953"
             ],
             [
              0.7777777777777778,
              "#fb9f3a"
             ],
             [
              0.8888888888888888,
              "#fdca26"
             ],
             [
              1,
              "#f0f921"
             ]
            ],
            "type": "heatmap"
           }
          ],
          "heatmapgl": [
           {
            "colorbar": {
             "outlinewidth": 0,
             "ticks": ""
            },
            "colorscale": [
             [
              0,
              "#0d0887"
             ],
             [
              0.1111111111111111,
              "#46039f"
             ],
             [
              0.2222222222222222,
              "#7201a8"
             ],
             [
              0.3333333333333333,
              "#9c179e"
             ],
             [
              0.4444444444444444,
              "#bd3786"
             ],
             [
              0.5555555555555556,
              "#d8576b"
             ],
             [
              0.6666666666666666,
              "#ed7953"
             ],
             [
              0.7777777777777778,
              "#fb9f3a"
             ],
             [
              0.8888888888888888,
              "#fdca26"
             ],
             [
              1,
              "#f0f921"
             ]
            ],
            "type": "heatmapgl"
           }
          ],
          "histogram": [
           {
            "marker": {
             "colorbar": {
              "outlinewidth": 0,
              "ticks": ""
             }
            },
            "type": "histogram"
           }
          ],
          "histogram2d": [
           {
            "colorbar": {
             "outlinewidth": 0,
             "ticks": ""
            },
            "colorscale": [
             [
              0,
              "#0d0887"
             ],
             [
              0.1111111111111111,
              "#46039f"
             ],
             [
              0.2222222222222222,
              "#7201a8"
             ],
             [
              0.3333333333333333,
              "#9c179e"
             ],
             [
              0.4444444444444444,
              "#bd3786"
             ],
             [
              0.5555555555555556,
              "#d8576b"
             ],
             [
              0.6666666666666666,
              "#ed7953"
             ],
             [
              0.7777777777777778,
              "#fb9f3a"
             ],
             [
              0.8888888888888888,
              "#fdca26"
             ],
             [
              1,
              "#f0f921"
             ]
            ],
            "type": "histogram2d"
           }
          ],
          "histogram2dcontour": [
           {
            "colorbar": {
             "outlinewidth": 0,
             "ticks": ""
            },
            "colorscale": [
             [
              0,
              "#0d0887"
             ],
             [
              0.1111111111111111,
              "#46039f"
             ],
             [
              0.2222222222222222,
              "#7201a8"
             ],
             [
              0.3333333333333333,
              "#9c179e"
             ],
             [
              0.4444444444444444,
              "#bd3786"
             ],
             [
              0.5555555555555556,
              "#d8576b"
             ],
             [
              0.6666666666666666,
              "#ed7953"
             ],
             [
              0.7777777777777778,
              "#fb9f3a"
             ],
             [
              0.8888888888888888,
              "#fdca26"
             ],
             [
              1,
              "#f0f921"
             ]
            ],
            "type": "histogram2dcontour"
           }
          ],
          "mesh3d": [
           {
            "colorbar": {
             "outlinewidth": 0,
             "ticks": ""
            },
            "type": "mesh3d"
           }
          ],
          "parcoords": [
           {
            "line": {
             "colorbar": {
              "outlinewidth": 0,
              "ticks": ""
             }
            },
            "type": "parcoords"
           }
          ],
          "pie": [
           {
            "automargin": true,
            "type": "pie"
           }
          ],
          "scatter": [
           {
            "marker": {
             "colorbar": {
              "outlinewidth": 0,
              "ticks": ""
             }
            },
            "type": "scatter"
           }
          ],
          "scatter3d": [
           {
            "line": {
             "colorbar": {
              "outlinewidth": 0,
              "ticks": ""
             }
            },
            "marker": {
             "colorbar": {
              "outlinewidth": 0,
              "ticks": ""
             }
            },
            "type": "scatter3d"
           }
          ],
          "scattercarpet": [
           {
            "marker": {
             "colorbar": {
              "outlinewidth": 0,
              "ticks": ""
             }
            },
            "type": "scattercarpet"
           }
          ],
          "scattergeo": [
           {
            "marker": {
             "colorbar": {
              "outlinewidth": 0,
              "ticks": ""
             }
            },
            "type": "scattergeo"
           }
          ],
          "scattergl": [
           {
            "marker": {
             "colorbar": {
              "outlinewidth": 0,
              "ticks": ""
             }
            },
            "type": "scattergl"
           }
          ],
          "scattermapbox": [
           {
            "marker": {
             "colorbar": {
              "outlinewidth": 0,
              "ticks": ""
             }
            },
            "type": "scattermapbox"
           }
          ],
          "scatterpolar": [
           {
            "marker": {
             "colorbar": {
              "outlinewidth": 0,
              "ticks": ""
             }
            },
            "type": "scatterpolar"
           }
          ],
          "scatterpolargl": [
           {
            "marker": {
             "colorbar": {
              "outlinewidth": 0,
              "ticks": ""
             }
            },
            "type": "scatterpolargl"
           }
          ],
          "scatterternary": [
           {
            "marker": {
             "colorbar": {
              "outlinewidth": 0,
              "ticks": ""
             }
            },
            "type": "scatterternary"
           }
          ],
          "surface": [
           {
            "colorbar": {
             "outlinewidth": 0,
             "ticks": ""
            },
            "colorscale": [
             [
              0,
              "#0d0887"
             ],
             [
              0.1111111111111111,
              "#46039f"
             ],
             [
              0.2222222222222222,
              "#7201a8"
             ],
             [
              0.3333333333333333,
              "#9c179e"
             ],
             [
              0.4444444444444444,
              "#bd3786"
             ],
             [
              0.5555555555555556,
              "#d8576b"
             ],
             [
              0.6666666666666666,
              "#ed7953"
             ],
             [
              0.7777777777777778,
              "#fb9f3a"
             ],
             [
              0.8888888888888888,
              "#fdca26"
             ],
             [
              1,
              "#f0f921"
             ]
            ],
            "type": "surface"
           }
          ],
          "table": [
           {
            "cells": {
             "fill": {
              "color": "#EBF0F8"
             },
             "line": {
              "color": "white"
             }
            },
            "header": {
             "fill": {
              "color": "#C8D4E3"
             },
             "line": {
              "color": "white"
             }
            },
            "type": "table"
           }
          ]
         },
         "layout": {
          "annotationdefaults": {
           "arrowcolor": "#2a3f5f",
           "arrowhead": 0,
           "arrowwidth": 1
          },
          "coloraxis": {
           "colorbar": {
            "outlinewidth": 0,
            "ticks": ""
           }
          },
          "colorscale": {
           "diverging": [
            [
             0,
             "#8e0152"
            ],
            [
             0.1,
             "#c51b7d"
            ],
            [
             0.2,
             "#de77ae"
            ],
            [
             0.3,
             "#f1b6da"
            ],
            [
             0.4,
             "#fde0ef"
            ],
            [
             0.5,
             "#f7f7f7"
            ],
            [
             0.6,
             "#e6f5d0"
            ],
            [
             0.7,
             "#b8e186"
            ],
            [
             0.8,
             "#7fbc41"
            ],
            [
             0.9,
             "#4d9221"
            ],
            [
             1,
             "#276419"
            ]
           ],
           "sequential": [
            [
             0,
             "#0d0887"
            ],
            [
             0.1111111111111111,
             "#46039f"
            ],
            [
             0.2222222222222222,
             "#7201a8"
            ],
            [
             0.3333333333333333,
             "#9c179e"
            ],
            [
             0.4444444444444444,
             "#bd3786"
            ],
            [
             0.5555555555555556,
             "#d8576b"
            ],
            [
             0.6666666666666666,
             "#ed7953"
            ],
            [
             0.7777777777777778,
             "#fb9f3a"
            ],
            [
             0.8888888888888888,
             "#fdca26"
            ],
            [
             1,
             "#f0f921"
            ]
           ],
           "sequentialminus": [
            [
             0,
             "#0d0887"
            ],
            [
             0.1111111111111111,
             "#46039f"
            ],
            [
             0.2222222222222222,
             "#7201a8"
            ],
            [
             0.3333333333333333,
             "#9c179e"
            ],
            [
             0.4444444444444444,
             "#bd3786"
            ],
            [
             0.5555555555555556,
             "#d8576b"
            ],
            [
             0.6666666666666666,
             "#ed7953"
            ],
            [
             0.7777777777777778,
             "#fb9f3a"
            ],
            [
             0.8888888888888888,
             "#fdca26"
            ],
            [
             1,
             "#f0f921"
            ]
           ]
          },
          "colorway": [
           "#636efa",
           "#EF553B",
           "#00cc96",
           "#ab63fa",
           "#FFA15A",
           "#19d3f3",
           "#FF6692",
           "#B6E880",
           "#FF97FF",
           "#FECB52"
          ],
          "font": {
           "color": "#2a3f5f"
          },
          "geo": {
           "bgcolor": "white",
           "lakecolor": "white",
           "landcolor": "#E5ECF6",
           "showlakes": true,
           "showland": true,
           "subunitcolor": "white"
          },
          "hoverlabel": {
           "align": "left"
          },
          "hovermode": "closest",
          "mapbox": {
           "style": "light"
          },
          "paper_bgcolor": "white",
          "plot_bgcolor": "#E5ECF6",
          "polar": {
           "angularaxis": {
            "gridcolor": "white",
            "linecolor": "white",
            "ticks": ""
           },
           "bgcolor": "#E5ECF6",
           "radialaxis": {
            "gridcolor": "white",
            "linecolor": "white",
            "ticks": ""
           }
          },
          "scene": {
           "xaxis": {
            "backgroundcolor": "#E5ECF6",
            "gridcolor": "white",
            "gridwidth": 2,
            "linecolor": "white",
            "showbackground": true,
            "ticks": "",
            "zerolinecolor": "white"
           },
           "yaxis": {
            "backgroundcolor": "#E5ECF6",
            "gridcolor": "white",
            "gridwidth": 2,
            "linecolor": "white",
            "showbackground": true,
            "ticks": "",
            "zerolinecolor": "white"
           },
           "zaxis": {
            "backgroundcolor": "#E5ECF6",
            "gridcolor": "white",
            "gridwidth": 2,
            "linecolor": "white",
            "showbackground": true,
            "ticks": "",
            "zerolinecolor": "white"
           }
          },
          "shapedefaults": {
           "line": {
            "color": "#2a3f5f"
           }
          },
          "ternary": {
           "aaxis": {
            "gridcolor": "white",
            "linecolor": "white",
            "ticks": ""
           },
           "baxis": {
            "gridcolor": "white",
            "linecolor": "white",
            "ticks": ""
           },
           "bgcolor": "#E5ECF6",
           "caxis": {
            "gridcolor": "white",
            "linecolor": "white",
            "ticks": ""
           }
          },
          "title": {
           "x": 0.05
          },
          "xaxis": {
           "automargin": true,
           "gridcolor": "white",
           "linecolor": "white",
           "ticks": "",
           "title": {
            "standoff": 15
           },
           "zerolinecolor": "white",
           "zerolinewidth": 2
          },
          "yaxis": {
           "automargin": true,
           "gridcolor": "white",
           "linecolor": "white",
           "ticks": "",
           "title": {
            "standoff": 15
           },
           "zerolinecolor": "white",
           "zerolinewidth": 2
          }
         }
        },
        "title": {
         "text": "US Accidents by State"
        }
       }
      },
      "text/html": [
       "<div>\n",
       "        \n",
       "        \n",
       "            <div id=\"88c7e6b6-ade5-4994-88c5-2b289fff94d7\" class=\"plotly-graph-div\" style=\"height:525px; width:100%;\"></div>\n",
       "            <script type=\"text/javascript\">\n",
       "                require([\"plotly\"], function(Plotly) {\n",
       "                    window.PLOTLYENV=window.PLOTLYENV || {};\n",
       "                    \n",
       "                if (document.getElementById(\"88c7e6b6-ade5-4994-88c5-2b289fff94d7\")) {\n",
       "                    Plotly.newPlot(\n",
       "                        '88c7e6b6-ade5-4994-88c5-2b289fff94d7',\n",
       "                        [{\"colorbar\": {\"title\": {\"text\": \"Count\"}}, \"colorscale\": [[0.0, \"rgb(241, 236, 236)\"], [0.09090909090909091, \"rgb(230, 209, 203)\"], [0.18181818181818182, \"rgb(221, 182, 170)\"], [0.2727272727272727, \"rgb(213, 156, 137)\"], [0.36363636363636365, \"rgb(205, 129, 103)\"], [0.45454545454545453, \"rgb(196, 102, 73)\"], [0.5454545454545454, \"rgb(186, 74, 47)\"], [0.6363636363636364, \"rgb(172, 44, 36)\"], [0.7272727272727273, \"rgb(149, 19, 39)\"], [0.8181818181818182, \"rgb(120, 14, 40)\"], [0.9090909090909091, \"rgb(89, 13, 31)\"], [1.0, \"rgb(60, 9, 17)\"]], \"locationmode\": \"USA-states\", \"locations\": [\"CA\", \"TX\", \"FL\", \"SC\", \"NC\", \"NY\", \"PA\", \"MI\", \"GA\", \"VA\", \"IL\", \"TN\", \"LA\", \"OK\", \"AZ\", \"WA\", \"MN\", \"OH\", \"AL\", \"NJ\", \"MA\", \"CO\", \"MD\", \"IN\", \"NE\", \"OR\", \"UT\", \"MO\", \"KY\", \"CT\", \"WI\", \"IA\", \"RI\", \"NV\", \"MS\", \"NM\", \"NH\", \"DE\", \"KS\", \"DC\", \"AR\", \"VT\", \"WV\", \"WY\", \"ID\", \"ME\", \"MT\", \"ND\", \"SD\"], \"type\": \"choropleth\", \"z\": [440179.0, 252632.0, 172333.0, 137754.0, 119389.0, 108133.0, 78047.0, 69828.0, 62821.0, 59098.0, 54271.0, 49991.0, 48746.0, 48593.0, 47438.0, 44037.0, 42157.0, 40959.0, 33071.0, 32356.0, 27350.0, 26718.0, 22624.0, 22435.0, 21118.0, 17552.0, 17335.0, 17136.0, 15415.0, 14738.0, 10636.0, 7571.0, 7246.0, 6348.0, 4228.0, 4118.0, 3623.0, 3242.0, 2249.0, 1886.0, 375.0, 301.0, 292.0, 163.0, 144.0, 56.0, 48.0, 13.0, 6.0]}],\n",
       "                        {\"geo\": {\"scope\": \"usa\"}, \"template\": {\"data\": {\"bar\": [{\"error_x\": {\"color\": \"#2a3f5f\"}, \"error_y\": {\"color\": \"#2a3f5f\"}, \"marker\": {\"line\": {\"color\": \"#E5ECF6\", \"width\": 0.5}}, \"type\": \"bar\"}], \"barpolar\": [{\"marker\": {\"line\": {\"color\": \"#E5ECF6\", \"width\": 0.5}}, \"type\": \"barpolar\"}], \"carpet\": [{\"aaxis\": {\"endlinecolor\": \"#2a3f5f\", \"gridcolor\": \"white\", \"linecolor\": \"white\", \"minorgridcolor\": \"white\", \"startlinecolor\": \"#2a3f5f\"}, \"baxis\": {\"endlinecolor\": \"#2a3f5f\", \"gridcolor\": \"white\", \"linecolor\": \"white\", \"minorgridcolor\": \"white\", \"startlinecolor\": \"#2a3f5f\"}, \"type\": \"carpet\"}], \"choropleth\": [{\"colorbar\": {\"outlinewidth\": 0, \"ticks\": \"\"}, \"type\": \"choropleth\"}], \"contour\": [{\"colorbar\": {\"outlinewidth\": 0, \"ticks\": \"\"}, \"colorscale\": [[0.0, \"#0d0887\"], [0.1111111111111111, \"#46039f\"], [0.2222222222222222, \"#7201a8\"], [0.3333333333333333, \"#9c179e\"], [0.4444444444444444, \"#bd3786\"], [0.5555555555555556, \"#d8576b\"], [0.6666666666666666, \"#ed7953\"], [0.7777777777777778, \"#fb9f3a\"], [0.8888888888888888, \"#fdca26\"], [1.0, \"#f0f921\"]], \"type\": \"contour\"}], \"contourcarpet\": [{\"colorbar\": {\"outlinewidth\": 0, \"ticks\": \"\"}, \"type\": \"contourcarpet\"}], \"heatmap\": [{\"colorbar\": {\"outlinewidth\": 0, \"ticks\": \"\"}, \"colorscale\": [[0.0, \"#0d0887\"], [0.1111111111111111, \"#46039f\"], [0.2222222222222222, \"#7201a8\"], [0.3333333333333333, \"#9c179e\"], [0.4444444444444444, \"#bd3786\"], [0.5555555555555556, \"#d8576b\"], [0.6666666666666666, \"#ed7953\"], [0.7777777777777778, \"#fb9f3a\"], [0.8888888888888888, \"#fdca26\"], [1.0, \"#f0f921\"]], \"type\": \"heatmap\"}], \"heatmapgl\": [{\"colorbar\": {\"outlinewidth\": 0, \"ticks\": \"\"}, \"colorscale\": [[0.0, \"#0d0887\"], [0.1111111111111111, \"#46039f\"], [0.2222222222222222, \"#7201a8\"], [0.3333333333333333, \"#9c179e\"], [0.4444444444444444, \"#bd3786\"], [0.5555555555555556, \"#d8576b\"], [0.6666666666666666, \"#ed7953\"], [0.7777777777777778, \"#fb9f3a\"], [0.8888888888888888, \"#fdca26\"], [1.0, \"#f0f921\"]], \"type\": \"heatmapgl\"}], \"histogram\": [{\"marker\": {\"colorbar\": {\"outlinewidth\": 0, \"ticks\": \"\"}}, \"type\": \"histogram\"}], \"histogram2d\": [{\"colorbar\": {\"outlinewidth\": 0, \"ticks\": \"\"}, \"colorscale\": [[0.0, \"#0d0887\"], [0.1111111111111111, \"#46039f\"], [0.2222222222222222, \"#7201a8\"], [0.3333333333333333, \"#9c179e\"], [0.4444444444444444, \"#bd3786\"], [0.5555555555555556, \"#d8576b\"], [0.6666666666666666, \"#ed7953\"], [0.7777777777777778, \"#fb9f3a\"], [0.8888888888888888, \"#fdca26\"], [1.0, \"#f0f921\"]], \"type\": \"histogram2d\"}], \"histogram2dcontour\": [{\"colorbar\": {\"outlinewidth\": 0, \"ticks\": \"\"}, \"colorscale\": [[0.0, \"#0d0887\"], [0.1111111111111111, \"#46039f\"], [0.2222222222222222, \"#7201a8\"], [0.3333333333333333, \"#9c179e\"], [0.4444444444444444, \"#bd3786\"], [0.5555555555555556, \"#d8576b\"], [0.6666666666666666, \"#ed7953\"], [0.7777777777777778, \"#fb9f3a\"], [0.8888888888888888, \"#fdca26\"], [1.0, \"#f0f921\"]], \"type\": \"histogram2dcontour\"}], \"mesh3d\": [{\"colorbar\": {\"outlinewidth\": 0, \"ticks\": \"\"}, \"type\": \"mesh3d\"}], \"parcoords\": [{\"line\": {\"colorbar\": {\"outlinewidth\": 0, \"ticks\": \"\"}}, \"type\": \"parcoords\"}], \"pie\": [{\"automargin\": true, \"type\": \"pie\"}], \"scatter\": [{\"marker\": {\"colorbar\": {\"outlinewidth\": 0, \"ticks\": \"\"}}, \"type\": \"scatter\"}], \"scatter3d\": [{\"line\": {\"colorbar\": {\"outlinewidth\": 0, \"ticks\": \"\"}}, \"marker\": {\"colorbar\": {\"outlinewidth\": 0, \"ticks\": \"\"}}, \"type\": \"scatter3d\"}], \"scattercarpet\": [{\"marker\": {\"colorbar\": {\"outlinewidth\": 0, \"ticks\": \"\"}}, \"type\": \"scattercarpet\"}], \"scattergeo\": [{\"marker\": {\"colorbar\": {\"outlinewidth\": 0, \"ticks\": \"\"}}, \"type\": \"scattergeo\"}], \"scattergl\": [{\"marker\": {\"colorbar\": {\"outlinewidth\": 0, \"ticks\": \"\"}}, \"type\": \"scattergl\"}], \"scattermapbox\": [{\"marker\": {\"colorbar\": {\"outlinewidth\": 0, \"ticks\": \"\"}}, \"type\": \"scattermapbox\"}], \"scatterpolar\": [{\"marker\": {\"colorbar\": {\"outlinewidth\": 0, \"ticks\": \"\"}}, \"type\": \"scatterpolar\"}], \"scatterpolargl\": [{\"marker\": {\"colorbar\": {\"outlinewidth\": 0, \"ticks\": \"\"}}, \"type\": \"scatterpolargl\"}], \"scatterternary\": [{\"marker\": {\"colorbar\": {\"outlinewidth\": 0, \"ticks\": \"\"}}, \"type\": \"scatterternary\"}], \"surface\": [{\"colorbar\": {\"outlinewidth\": 0, \"ticks\": \"\"}, \"colorscale\": [[0.0, \"#0d0887\"], [0.1111111111111111, \"#46039f\"], [0.2222222222222222, \"#7201a8\"], [0.3333333333333333, \"#9c179e\"], [0.4444444444444444, \"#bd3786\"], [0.5555555555555556, \"#d8576b\"], [0.6666666666666666, \"#ed7953\"], [0.7777777777777778, \"#fb9f3a\"], [0.8888888888888888, \"#fdca26\"], [1.0, \"#f0f921\"]], \"type\": \"surface\"}], \"table\": [{\"cells\": {\"fill\": {\"color\": \"#EBF0F8\"}, \"line\": {\"color\": \"white\"}}, \"header\": {\"fill\": {\"color\": \"#C8D4E3\"}, \"line\": {\"color\": \"white\"}}, \"type\": \"table\"}]}, \"layout\": {\"annotationdefaults\": {\"arrowcolor\": \"#2a3f5f\", \"arrowhead\": 0, \"arrowwidth\": 1}, \"coloraxis\": {\"colorbar\": {\"outlinewidth\": 0, \"ticks\": \"\"}}, \"colorscale\": {\"diverging\": [[0, \"#8e0152\"], [0.1, \"#c51b7d\"], [0.2, \"#de77ae\"], [0.3, \"#f1b6da\"], [0.4, \"#fde0ef\"], [0.5, \"#f7f7f7\"], [0.6, \"#e6f5d0\"], [0.7, \"#b8e186\"], [0.8, \"#7fbc41\"], [0.9, \"#4d9221\"], [1, \"#276419\"]], \"sequential\": [[0.0, \"#0d0887\"], [0.1111111111111111, \"#46039f\"], [0.2222222222222222, \"#7201a8\"], [0.3333333333333333, \"#9c179e\"], [0.4444444444444444, \"#bd3786\"], [0.5555555555555556, \"#d8576b\"], [0.6666666666666666, \"#ed7953\"], [0.7777777777777778, \"#fb9f3a\"], [0.8888888888888888, \"#fdca26\"], [1.0, \"#f0f921\"]], \"sequentialminus\": [[0.0, \"#0d0887\"], [0.1111111111111111, \"#46039f\"], [0.2222222222222222, \"#7201a8\"], [0.3333333333333333, \"#9c179e\"], [0.4444444444444444, \"#bd3786\"], [0.5555555555555556, \"#d8576b\"], [0.6666666666666666, \"#ed7953\"], [0.7777777777777778, \"#fb9f3a\"], [0.8888888888888888, \"#fdca26\"], [1.0, \"#f0f921\"]]}, \"colorway\": [\"#636efa\", \"#EF553B\", \"#00cc96\", \"#ab63fa\", \"#FFA15A\", \"#19d3f3\", \"#FF6692\", \"#B6E880\", \"#FF97FF\", \"#FECB52\"], \"font\": {\"color\": \"#2a3f5f\"}, \"geo\": {\"bgcolor\": \"white\", \"lakecolor\": \"white\", \"landcolor\": \"#E5ECF6\", \"showlakes\": true, \"showland\": true, \"subunitcolor\": \"white\"}, \"hoverlabel\": {\"align\": \"left\"}, \"hovermode\": \"closest\", \"mapbox\": {\"style\": \"light\"}, \"paper_bgcolor\": \"white\", \"plot_bgcolor\": \"#E5ECF6\", \"polar\": {\"angularaxis\": {\"gridcolor\": \"white\", \"linecolor\": \"white\", \"ticks\": \"\"}, \"bgcolor\": \"#E5ECF6\", \"radialaxis\": {\"gridcolor\": \"white\", \"linecolor\": \"white\", \"ticks\": \"\"}}, \"scene\": {\"xaxis\": {\"backgroundcolor\": \"#E5ECF6\", \"gridcolor\": \"white\", \"gridwidth\": 2, \"linecolor\": \"white\", \"showbackground\": true, \"ticks\": \"\", \"zerolinecolor\": \"white\"}, \"yaxis\": {\"backgroundcolor\": \"#E5ECF6\", \"gridcolor\": \"white\", \"gridwidth\": 2, \"linecolor\": \"white\", \"showbackground\": true, \"ticks\": \"\", \"zerolinecolor\": \"white\"}, \"zaxis\": {\"backgroundcolor\": \"#E5ECF6\", \"gridcolor\": \"white\", \"gridwidth\": 2, \"linecolor\": \"white\", \"showbackground\": true, \"ticks\": \"\", \"zerolinecolor\": \"white\"}}, \"shapedefaults\": {\"line\": {\"color\": \"#2a3f5f\"}}, \"ternary\": {\"aaxis\": {\"gridcolor\": \"white\", \"linecolor\": \"white\", \"ticks\": \"\"}, \"baxis\": {\"gridcolor\": \"white\", \"linecolor\": \"white\", \"ticks\": \"\"}, \"bgcolor\": \"#E5ECF6\", \"caxis\": {\"gridcolor\": \"white\", \"linecolor\": \"white\", \"ticks\": \"\"}}, \"title\": {\"x\": 0.05}, \"xaxis\": {\"automargin\": true, \"gridcolor\": \"white\", \"linecolor\": \"white\", \"ticks\": \"\", \"title\": {\"standoff\": 15}, \"zerolinecolor\": \"white\", \"zerolinewidth\": 2}, \"yaxis\": {\"automargin\": true, \"gridcolor\": \"white\", \"linecolor\": \"white\", \"ticks\": \"\", \"title\": {\"standoff\": 15}, \"zerolinecolor\": \"white\", \"zerolinewidth\": 2}}}, \"title\": {\"text\": \"US Accidents by State\"}},\n",
       "                        {\"responsive\": true}\n",
       "                    ).then(function(){\n",
       "                            \n",
       "var gd = document.getElementById('88c7e6b6-ade5-4994-88c5-2b289fff94d7');\n",
       "var x = new MutationObserver(function (mutations, observer) {{\n",
       "        var display = window.getComputedStyle(gd).display;\n",
       "        if (!display || display === 'none') {{\n",
       "            console.log([gd, 'removed!']);\n",
       "            Plotly.purge(gd);\n",
       "            observer.disconnect();\n",
       "        }}\n",
       "}});\n",
       "\n",
       "// Listen for the removal of the full notebook cells\n",
       "var notebookContainer = gd.closest('#notebook-container');\n",
       "if (notebookContainer) {{\n",
       "    x.observe(notebookContainer, {childList: true});\n",
       "}}\n",
       "\n",
       "// Listen for the clearing of the current output cell\n",
       "var outputEl = gd.closest('.output');\n",
       "if (outputEl) {{\n",
       "    x.observe(outputEl, {childList: true});\n",
       "}}\n",
       "\n",
       "                        })\n",
       "                };\n",
       "                });\n",
       "            </script>\n",
       "        </div>"
      ]
     },
     "metadata": {},
     "output_type": "display_data"
    }
   ],
   "source": [
    "#!pip install plotly\n",
    "import plotly.graph_objects as go\n",
    "state = data.select('State').collect()\n",
    "state = [s.State for s in state]\n",
    "df_st_ct = pd.value_counts(pd.Series(state))\n",
    "fig = go.Figure(data=go.Choropleth(\n",
    "    locations=df_st_ct.index,\n",
    "    z = df_st_ct.values.astype(float),  # Data to be color-coded\n",
    "    locationmode = 'USA-states',     # set of locations match entries in `locations`\n",
    "    colorscale = 'amp',\n",
    "    colorbar_title = \"Count\",\n",
    "))\n",
    "\n",
    "fig.update_layout(\n",
    "    title_text = 'US Accidents by State',\n",
    "    geo_scope='usa', # limite map scope to USA\n",
    ")\n",
    "\n",
    "fig.show()"
   ]
  },
  {
   "cell_type": "code",
   "execution_count": 112,
   "metadata": {},
   "outputs": [],
   "source": [
    "severity_dist = data.groupBy('Severity').count().alias(\"count_Severity\")\n",
    "severity_dist= severity_dist.toDF('Severity','count_Severity').toPandas()"
   ]
  },
  {
   "cell_type": "code",
   "execution_count": 113,
   "metadata": {},
   "outputs": [
    {
     "data": {
      "image/png": "[encoded data removed]",
      "text/plain": [
       "<Figure size 1800x1080 with 1 Axes>"
      ]
     },
     "metadata": {},
     "output_type": "display_data"
    }
   ],
   "source": [
    "# severity = data.select(\"Severity\").collect()\n",
    "# severity = [s.Severity for s in severity]\n",
    "# sns.countplot(x= severity)\n",
    "# sns.despine(left = True)\n",
    "plt.figure(figsize=(25,15))\n",
    "sns.set(style=\"white\")\n",
    "g= sns.barplot(x=\"Severity\",y=\"count_Severity\",data=severity_dist,color=(0.21569, 0.21569 ,0.21569))\n",
    "\n",
    "\n",
    "g.set(yticklabels=[])\n",
    "g.set_ylabel('')\n",
    "g.axes.set_title(\"Number of Acidents per State\",fontsize=20)\n",
    "g.set_xlabel('Severity',fontsize=14)\n",
    "sns.despine(left=True)\n"
   ]
  },
  {
   "cell_type": "code",
   "execution_count": 120,
   "metadata": {},
   "outputs": [],
   "source": [
    "\n",
    "# pipeline = Pipeline(stages=indexers)\n",
    "# data = pipeline.fit(data).transform(data)"
   ]
  },
  {
   "cell_type": "code",
   "execution_count": null,
   "metadata": {},
   "outputs": [],
   "source": []
  },
  {
   "cell_type": "code",
   "execution_count": null,
   "metadata": {},
   "outputs": [],
   "source": []
  },
  {
   "cell_type": "code",
   "execution_count": 24,
   "metadata": {},
   "outputs": [
    {
     "data": {
      "text/plain": [
       "['ID',\n",
       " 'Source',\n",
       " 'TMC',\n",
       " 'Severity',\n",
       " 'Start_Time',\n",
       " 'End_Time',\n",
       " 'Start_Lat',\n",
       " 'Start_Lng',\n",
       " 'Distance(mi)',\n",
       " 'Description',\n",
       " 'Street',\n",
       " 'Side',\n",
       " 'City',\n",
       " 'County',\n",
       " 'State',\n",
       " 'Zipcode',\n",
       " 'Country',\n",
       " 'Timezone',\n",
       " 'Airport_Code',\n",
       " 'Weather_Timestamp',\n",
       " 'Temperature(F)',\n",
       " 'Wind_Chill(F)',\n",
       " 'Humidity(%)',\n",
       " 'Pressure(in)',\n",
       " 'Visibility(mi)',\n",
       " 'Wind_Direction',\n",
       " 'Wind_Speed(mph)',\n",
       " 'Precipitation(in)',\n",
       " 'Weather_Condition',\n",
       " 'Sunrise_Sunset',\n",
       " 'Civil_Twilight',\n",
       " 'Nautical_Twilight',\n",
       " 'Astronomical_Twilight',\n",
       " 'Amenity_index',\n",
       " 'Bump_index',\n",
       " 'Crossing_index',\n",
       " 'Give_Way_index',\n",
       " 'Junction_index',\n",
       " 'No_Exit_index',\n",
       " 'Railway_index',\n",
       " 'Roundabout_index',\n",
       " 'Station_index',\n",
       " 'Stop_index',\n",
       " 'Traffic_Calming_index',\n",
       " 'Traffic_Signal_index',\n",
       " 'Turning_Loop_index']"
      ]
     },
     "execution_count": 24,
     "metadata": {},
     "output_type": "execute_result"
    }
   ],
   "source": []
  },
  {
   "cell_type": "code",
   "execution_count": 121,
   "metadata": {},
   "outputs": [],
   "source": [
    "data = data.withColumn(\"Severity\", F.when(F.col(\"Severity\")=='1', 2).otherwise(F.col(\"Severity\")))"
   ]
  },
  {
   "cell_type": "code",
   "execution_count": 122,
   "metadata": {},
   "outputs": [],
   "source": [
    "data = data.withColumn(\"Severity\", F.when(F.col(\"Severity\")==4, 3).otherwise(F.col(\"Severity\")))"
   ]
  },
  {
   "cell_type": "code",
   "execution_count": 123,
   "metadata": {},
   "outputs": [
    {
     "data": {
      "text/plain": [
       "1.9037945770606997"
      ]
     },
     "execution_count": 123,
     "metadata": {},
     "output_type": "execute_result"
    }
   ],
   "source": [
    "data.filter(col(\"Severity\")=='2').count()/data.filter(col(\"Severity\")=='3').count()"
   ]
  },
  {
   "cell_type": "code",
   "execution_count": null,
   "metadata": {},
   "outputs": [],
   "source": []
  },
  {
   "cell_type": "code",
   "execution_count": 124,
   "metadata": {},
   "outputs": [
    {
     "name": "stdout",
     "output_type": "stream",
     "text": [
      "+----+--------+-----+--------+-------------------+-------------------+---------+----------+------------+--------------------+--------------------+----+----------------+----------+-----+----------+-------+----------+------------+-------------------+--------------+-----------------+-----------+------------+--------------+--------------+-----------------+--------------------+-----------------+-------+-----+--------+--------+--------+-------+-------+----------+-------+-----+---------------+--------------+------------+--------------+--------------+-----------------+---------------------+\n",
      "|  ID|  Source|  TMC|Severity|         Start_Time|           End_Time|Start_Lat| Start_Lng|Distance(mi)|         Description|              Street|Side|            City|    County|State|   Zipcode|Country|  Timezone|Airport_Code|  Weather_Timestamp|Temperature(F)|    Wind_Chill(F)|Humidity(%)|Pressure(in)|Visibility(mi)|Wind_Direction|  Wind_Speed(mph)|   Precipitation(in)|Weather_Condition|Amenity| Bump|Crossing|Give_Way|Junction|No_Exit|Railway|Roundabout|Station| Stop|Traffic_Calming|Traffic_Signal|Turning_Loop|Sunrise_Sunset|Civil_Twilight|Nautical_Twilight|Astronomical_Twilight|\n",
      "+----+--------+-----+--------+-------------------+-------------------+---------+----------+------------+--------------------+--------------------+----+----------------+----------+-----+----------+-------+----------+------------+-------------------+--------------+-----------------+-----------+------------+--------------+--------------+-----------------+--------------------+-----------------+-------+-----+--------+--------+--------+-------+-------+----------+-------+-----+---------------+--------------+------------+--------------+--------------+-----------------+---------------------+\n",
      "|A-14|MapQuest|201.0|       2|2016-02-08 08:37:07|2016-02-08 09:07:07| 39.79076|-84.241547|        0.01|Accident on Salem...|           Salem Ave|   L|          Dayton|Montgomery|   OH|45406-2708|     US|US/Eastern|        KDAY|2016-02-08 08:56:00|          36.0|             31.1|       89.0|       29.65|          10.0|            NW|              5.8|0.020494509604222225|    Mostly Cloudy|  False|False|   False|   False|   False|  False|  False|     False|  False|False|          False|          True|       False|           Day|           Day|              Day|                  Day|\n",
      "|A-16|MapQuest|201.0|       2|2016-02-08 08:43:20|2016-02-08 09:13:20|39.745888| -84.17041|        0.01|Accident on Wayne...|         Glencoe Ave|   R|          Dayton|Montgomery|   OH|45410-1721|     US|US/Eastern|        KFFO|2016-02-08 08:28:00|          33.8|51.32684860284989|      100.0|       29.63|           3.0|            SW|              2.3|0.020494509604222225|         Overcast|  False|False|   False|   False|   False|  False|  False|     False|  False|False|          False|         False|       False|           Day|           Day|              Day|                  Day|\n",
      "|A-17|MapQuest|201.0|       2|2016-02-08 08:53:17|2016-02-08 09:23:17|39.748329|-84.224007|        0.01|Accident on James...|S James H McGee Blvd|   R|          Dayton|Montgomery|   OH|     45402|     US|US/Eastern|        KFFO|2016-02-08 08:58:00|          35.6|51.32684860284989|       99.0|       29.65|           7.0|           WSW|              2.3|0.020494509604222225|    Mostly Cloudy|  False|False|   False|   False|   False|  False|  False|     False|  False|False|          False|         False|       False|           Day|           Day|              Day|                  Day|\n",
      "|A-21|MapQuest|201.0|       2|2016-02-08 10:11:15|2016-02-08 10:41:15|40.052509|-82.882332|         0.0|Accident on Brook...|        Brookhill Dr|   R|        Columbus|  Franklin|   OH|43230-1765|     US|US/Eastern|        KCMH|2016-02-08 10:14:00|          33.8|             29.6|      100.0|       29.62|           2.0|           NNW|              4.6|                0.01|       Light Snow|  False|False|   False|   False|   False|  False|  False|     False|  False|False|          False|         False|       False|           Day|           Day|              Day|                  Day|\n",
      "|A-22|MapQuest|201.0|       2|2016-02-08 10:24:27|2016-02-08 10:54:27|39.773346|-84.224686|         0.0|Accident on Princ...|        Princeton Dr|   R|          Dayton|Montgomery|   OH|45406-4736|     US|US/Eastern|        KDAY|2016-02-08 09:56:00|          36.0|             30.3|       89.0|       29.65|          10.0|          West|              6.9|0.020494509604222225|    Mostly Cloudy|  False|False|   False|   False|   False|  False|  False|     False|  False|False|          False|         False|       False|           Day|           Day|              Day|                  Day|\n",
      "|A-29|MapQuest|201.0|       2|2016-02-08 14:56:57|2016-02-08 15:41:57|39.789322|-84.239105|        0.01|Accident on Salem...|      Litchfield Ave|   R|          Dayton|Montgomery|   OH|45406-2701|     US|US/Eastern|        KDAY|2016-02-08 14:56:00|          39.9|             34.5|       65.0|       29.61|          10.0|           WNW|              8.1|0.020494509604222225|    Mostly Cloudy|  False|False|   False|   False|   False|  False|  False|     False|  False|False|          False|         False|       False|           Day|           Day|              Day|                  Day|\n",
      "|A-30|MapQuest|201.0|       2|2016-02-08 15:26:14|2016-02-08 16:11:14| 39.75872|-84.183762|         0.0|Accident on 4th S...|            E 4th St|   R|          Dayton|Montgomery|   OH|     45402|     US|US/Eastern|        KFFO|2016-02-08 15:46:00|          39.2|             35.9|       75.0|       29.62|          10.0|           NNE|              4.6|0.020494509604222225|    Mostly Cloudy|  False|False|   False|   False|   False|  False|  False|     False|  False|False|          False|         False|       False|           Day|           Day|              Day|                  Day|\n",
      "|A-31|MapQuest|201.0|       2|2016-02-08 16:16:08|2016-02-08 16:46:08|40.081459|-83.122398|        0.01|Accident on Frant...|           Frantz Rd|   R|          Dublin|  Franklin|   OH|43017-2552|     US|US/Eastern|        KOSU|2016-02-08 15:53:00|          37.0|             31.6|       89.0|       29.61|          10.0|          West|              6.9|                 0.0|         Overcast|  False|False|   False|   False|   False|  False|  False|     False|  False|False|          False|          True|       False|           Day|           Day|              Day|                  Day|\n",
      "|A-34|MapQuest|201.0|       3|2016-02-08 19:28:00|2016-02-08 21:00:00|39.974415|-82.848854|        0.01|Right lane blocke...|         Outerbelt N|   R|        Columbus|  Franklin|   OH|     43213|     US|US/Eastern|        KCMH|2016-02-08 19:51:00|          34.0|51.32684860284989|      100.0|       29.65|           6.0|          Calm|8.298063781457618|                0.07|         Overcast|  False|False|   False|   False|   False|  False|  False|     False|  False|False|          False|         False|       False|         Night|         Night|            Night|                  Day|\n",
      "|A-35|MapQuest|201.0|       2|2016-02-08 20:22:38|2016-02-08 21:07:38|39.994766| -83.02449|        0.01|Accident on OH-31...|     Olentangy Fwy N|   R|        Columbus|  Franklin|   OH|     43212|     US|US/Eastern|        KOSU|2016-02-08 20:27:00|          33.1|             26.1|       92.0|       29.63|           7.0|           WNW|              8.1|                 0.0|       Light Snow|  False|False|   False|   False|   False|  False|  False|     False|  False|False|          False|         False|       False|         Night|         Night|            Night|                Night|\n",
      "|A-37|MapQuest|201.0|       2|2016-02-09 04:28:48|2016-02-09 04:58:48|39.742062|-84.186996|        0.01|Accident on OH-48...|           S Main St|   L|          Dayton|Montgomery|   OH|45409-2616|     US|US/Eastern|        KFFO|2016-02-09 04:28:00|          23.0|             11.7|       93.0|       29.65|           5.0|            SW|             11.5|0.020494509604222225|       Light Snow|  False|False|   False|   False|   False|  False|  False|     False|  False|False|          False|         False|       False|         Night|         Night|            Night|                Night|\n",
      "|A-38|MapQuest|201.0|       2|2016-02-09 05:04:34|2016-02-09 05:34:34|39.843521| -82.78157|        0.01|Accident on US-33...|            Diley Rd|   R|Canal Winchester| Fairfield|   OH|     43110|     US|US/Eastern|        KLCK|2016-02-09 04:55:00|          23.0|             11.7|       93.0|       29.63|           2.5|           WSW|             11.5|0.020494509604222225|       Light Snow|  False|False|   False|   False|    True|  False|  False|     False|  False|False|          False|         False|       False|         Night|         Night|            Night|                Night|\n",
      "|A-40|MapQuest|201.0|       3|2016-02-09 05:27:20|2016-02-09 05:57:20|40.007626|-82.912155|        0.01|Accident on I-670...|          Stelzer Rd|   R|        Columbus|  Franklin|   OH|43219-3504|     US|US/Eastern|        KCMH|2016-02-09 05:27:00|          26.6|             18.2|       86.0|       29.62|           1.5|          West|              8.1|                0.01|       Light Snow|  False|False|   False|   False|   False|  False|  False|     False|  False|False|          False|         False|       False|         Night|         Night|            Night|                Night|\n",
      "|A-43|MapQuest|201.0|       2|2016-02-09 05:56:10|2016-02-09 06:26:10|39.426277|-83.624611|        0.01|Accident on OH-72...|    S State Route 72|   R|          Sabina|   Clinton|   OH|     45169|     US|US/Eastern|        KILN|2016-02-09 05:54:00|          19.9|              6.7|       89.0|       29.75|           1.8|           WSW|             13.8|                 0.0|       Light Snow|  False|False|   False|   False|   False|  False|  False|     False|  False|False|          False|         False|       False|         Night|         Night|            Night|                Night|\n",
      "|A-45|MapQuest|201.0|       3|2016-02-09 06:13:33|2016-02-09 06:43:33| 39.84182|-84.189606|        0.01|Accident on I-75 ...|        Benchwood Rd|   R|          Dayton|Montgomery|   OH|     45414|     US|US/Eastern|        KDAY|2016-02-09 06:03:00|          23.0|             10.1|       88.0|       29.66|           2.0|          West|             15.0|                 0.0|       Light Snow|  False|False|   False|   False|   False|  False|  False|     False|  False|False|          False|          True|       False|         Night|         Night|            Night|                  Day|\n",
      "|A-49|MapQuest|201.0|       2|2016-02-09 06:34:41|2016-02-09 07:04:41|39.780643| -84.16349|        0.01|Accident on Stanl...|           Brandt St|   R|          Dayton|Montgomery|   OH|     45404|     US|US/Eastern|        KFFO|2016-02-09 06:51:00|          23.0|             11.7|       86.0|       29.68|           4.0|            SW|             11.5|0.020494509604222225|       Light Snow|  False|False|   False|   False|   False|  False|  False|     False|  False|False|          False|          True|       False|         Night|         Night|            Night|                  Day|\n",
      "|A-52|MapQuest|201.0|       2|2016-02-09 06:53:09|2016-02-09 07:23:09|39.792988| -84.20607|        0.01|Accident on River...|        Riverside Dr|   R|          Dayton|Montgomery|   OH|     45405|     US|US/Eastern|        KDAY|2016-02-09 06:56:00|          21.9|              9.8|       92.0|       29.71|           2.0|           WSW|             12.7|                0.01|       Light Snow|  False|False|   False|   False|   False|  False|  False|     False|  False|False|          False|         False|       False|         Night|         Night|              Day|                  Day|\n",
      "|A-54|MapQuest|201.0|       3|2016-02-09 07:03:20|2016-02-09 07:33:20|39.976398|-83.119225|        0.01|Accident on I-70 ...|         Outerbelt S|   R|        Columbus|  Franklin|   OH|     43204|     US|US/Eastern|        KTZR|2016-02-09 07:20:00|          21.2|              8.3|       93.0|       29.66|           1.5|           WSW|             13.8|0.020494509604222225|       Light Snow|  False|False|   False|   False|   False|  False|  False|     False|  False|False|          False|         False|       False|         Night|           Day|              Day|                  Day|\n",
      "|A-57|MapQuest|201.0|       2|2016-02-09 07:15:41|2016-02-09 07:45:41|39.746593| -84.23912|        0.01|Accident on McCal...|        Dearborn Ave|   L|          Dayton|Montgomery|   OH|45417-2002|     US|US/Eastern|        KDAY|2016-02-09 07:08:00|          21.9|              9.8|       92.0|       29.68|           2.0|           WSW|             12.7|                 0.0|       Light Snow|  False|False|   False|   False|   False|  False|  False|     False|  False|False|          False|          True|       False|         Night|           Day|              Day|                  Day|\n",
      "|A-58|MapQuest|201.0|       2|2016-02-09 07:41:01|2016-02-09 08:11:01|39.742783|-84.182472|        0.01|Accident on Brown...|            Brown St|   R|          Dayton|Montgomery|   OH|45409-2602|     US|US/Eastern|        KFFO|2016-02-09 07:58:00|          22.5|             12.4|       90.0|       29.73|           1.2|            SW|              9.2|                 0.0|       Light Snow|   True|False|   False|   False|   False|  False|  False|     False|  False|False|          False|         False|       False|           Day|           Day|              Day|                  Day|\n",
      "+----+--------+-----+--------+-------------------+-------------------+---------+----------+------------+--------------------+--------------------+----+----------------+----------+-----+----------+-------+----------+------------+-------------------+--------------+-----------------+-----------+------------+--------------+--------------+-----------------+--------------------+-----------------+-------+-----+--------+--------+--------+-------+-------+----------+-------+-----+---------------+--------------+------------+--------------+--------------+-----------------+---------------------+\n",
      "only showing top 20 rows\n",
      "\n"
     ]
    }
   ],
   "source": [
    "sampled_data = data.sampleBy(\"Severity\", fractions={'2': 0.3, '3': 0.3}, seed=0)\n",
    "sampled_data.show()"
   ]
  },
  {
   "cell_type": "code",
   "execution_count": 125,
   "metadata": {},
   "outputs": [
    {
     "data": {
      "text/plain": [
       "1.90552394708566"
      ]
     },
     "execution_count": 125,
     "metadata": {},
     "output_type": "execute_result"
    }
   ],
   "source": [
    "sampled_data.filter(col(\"Severity\")==2).count()/sampled_data.filter(col(\"Severity\")==3).count()"
   ]
  },
  {
   "cell_type": "code",
   "execution_count": null,
   "metadata": {},
   "outputs": [],
   "source": []
  },
  {
   "cell_type": "code",
   "execution_count": 126,
   "metadata": {},
   "outputs": [],
   "source": [
    "from pyspark.sql.types import *\n",
    "sampled_data = sampled_data.withColumn('Distance(mi)', col('Distance(mi)').cast(DoubleType())).withColumn('Temperature(F)', col('Temperature(F)').cast(DoubleType())).withColumn('Wind_Chill(F)', col('Humidity(%)').cast(DoubleType())).withColumn('Humidity(%)', col('Wind_Chill(F)').cast(DoubleType())).withColumn('Pressure(in)', col('Pressure(in)').cast(DoubleType())).withColumn('Visibility(mi)', col('Visibility(mi)').cast(DoubleType())).withColumn('Wind_Speed(mph)', col('Wind_Speed(mph)').cast(DoubleType())).withColumn('Precipitation(in)', col('Precipitation(in)').cast(DoubleType()))"
   ]
  },
  {
   "cell_type": "code",
   "execution_count": null,
   "metadata": {},
   "outputs": [],
   "source": []
  },
  {
   "cell_type": "code",
   "execution_count": 127,
   "metadata": {},
   "outputs": [
    {
     "name": "stderr",
     "output_type": "stream",
     "text": [
      "Exception ignored in: <function JavaWrapper.__del__ at 0x1123bcdd0>\n",
      "Traceback (most recent call last):\n",
      "  File \"/usr/local/Cellar/apache-spark/2.4.5/libexec/python/pyspark/ml/wrapper.py\", line 40, in __del__\n",
      "    if SparkContext._active_spark_context and self._java_obj is not None:\n",
      "AttributeError: 'OneHotEncoderEstimator' object has no attribute '_java_obj'\n",
      "Exception ignored in: <function JavaWrapper.__del__ at 0x1123bcdd0>\n",
      "Traceback (most recent call last):\n",
      "  File \"/usr/local/Cellar/apache-spark/2.4.5/libexec/python/pyspark/ml/wrapper.py\", line 40, in __del__\n",
      "    if SparkContext._active_spark_context and self._java_obj is not None:\n",
      "AttributeError: 'StringIndexer' object has no attribute '_java_obj'\n"
     ]
    },
    {
     "data": {
      "image/png": "[encoded data removed]",
      "text/plain": [
       "<Figure size 1800x1080 with 2 Axes>"
      ]
     },
     "metadata": {},
     "output_type": "display_data"
    }
   ],
   "source": [
    "corr = sampled_data.toPandas().corr()\n",
    "plt.figure(figsize=(25,15))\n",
    "ax = sns.heatmap(\n",
    "    corr, \n",
    "    vmin=-1, vmax=1, center=0,\n",
    "    cmap=sns.diverging_palette(20, 220, n=200),\n",
    "    square=True,\n",
    "    annot = True\n",
    ")\n",
    "ax.set_xticklabels(\n",
    "    ax.get_xticklabels(),\n",
    "    rotation=45,\n",
    "    horizontalalignment='right'\n",
    ");"
   ]
  },
  {
   "cell_type": "code",
   "execution_count": 131,
   "metadata": {},
   "outputs": [
    {
     "data": {
      "text/plain": [
       "['ID',\n",
       " 'Source',\n",
       " 'TMC',\n",
       " 'Severity',\n",
       " 'Start_Time',\n",
       " 'End_Time',\n",
       " 'Start_Lat',\n",
       " 'Start_Lng',\n",
       " 'Distance(mi)',\n",
       " 'Description',\n",
       " 'Street',\n",
       " 'Side',\n",
       " 'City',\n",
       " 'County',\n",
       " 'State',\n",
       " 'Zipcode',\n",
       " 'Country',\n",
       " 'Timezone',\n",
       " 'Airport_Code',\n",
       " 'Weather_Timestamp',\n",
       " 'Temperature(F)',\n",
       " 'Wind_Chill(F)',\n",
       " 'Humidity(%)',\n",
       " 'Pressure(in)',\n",
       " 'Visibility(mi)',\n",
       " 'Wind_Direction',\n",
       " 'Wind_Speed(mph)',\n",
       " 'Precipitation(in)',\n",
       " 'Weather_Condition',\n",
       " 'Amenity',\n",
       " 'Bump',\n",
       " 'Crossing',\n",
       " 'Give_Way',\n",
       " 'Junction',\n",
       " 'No_Exit',\n",
       " 'Railway',\n",
       " 'Roundabout',\n",
       " 'Station',\n",
       " 'Stop',\n",
       " 'Traffic_Calming',\n",
       " 'Traffic_Signal',\n",
       " 'Turning_Loop',\n",
       " 'Sunrise_Sunset',\n",
       " 'Civil_Twilight',\n",
       " 'Nautical_Twilight',\n",
       " 'Astronomical_Twilight']"
      ]
     },
     "execution_count": 131,
     "metadata": {},
     "output_type": "execute_result"
    }
   ],
   "source": [
    "sampled_data.columns"
   ]
  },
  {
   "cell_type": "code",
   "execution_count": 146,
   "metadata": {},
   "outputs": [],
   "source": [
    "from pyspark.ml.feature import StringIndexer\n",
    "from pyspark.ml.feature import OneHotEncoderEstimator\n",
    "col_list = ['Amenity','Bump','Crossing','Give_Way','Junction','No_Exit','Railway','Roundabout','Station','Stop','Traffic_Calming','Traffic_Signal','Source','TMC',\n",
    "           'Description',\n",
    " 'Street',\n",
    " 'Side',\n",
    " 'City',\n",
    " 'County',\n",
    " 'State',\n",
    " 'Timezone',\n",
    " 'Airport_Code',\n",
    " 'Weather_Condition',\n",
    " 'Sunrise_Sunset',\n",
    " 'Civil_Twilight',\n",
    " 'Nautical_Twilight',\n",
    " 'Astronomical_Twilight'\n",
    "           ]\n",
    "indexers = [StringIndexer(inputCol=column, outputCol=column+\"_index\")for column in col_list]\n",
    "\n",
    "encoder = OneHotEncoderEstimator(\n",
    "    inputCols=[indexer.getOutputCol() for indexer in indexers],\n",
    "    outputCols=[\n",
    "        \"{0}_encoded\".format(indexer.getOutputCol()) for indexer in indexers]\n",
    ")\n",
    "assembler = VectorAssembler(\n",
    "    inputCols=encoder.getOutputCols(),\n",
    "    outputCol=\"features\"\n",
    ")\n",
    "\n",
    "pipeline = Pipeline(stages=indexers + [encoder, assembler])\n",
    "pipeline.fit(sampled_data).transform(sampled_data)\n",
    "\n"
   ]
  },
  {
   "cell_type": "code",
   "execution_count": null,
   "metadata": {},
   "outputs": [],
   "source": [
    "sampled_data.select(col('Civil_Twilight')).distinct().show()"
   ]
  },
  {
   "cell_type": "code",
   "execution_count": null,
   "metadata": {},
   "outputs": [],
   "source": [
    "for c in col_list:\n",
    "    sampled_data = sampled_data.drop(c)\n",
    "sampled_data.columns"
   ]
  },
  {
   "cell_type": "code",
   "execution_count": 87,
   "metadata": {},
   "outputs": [],
   "source": [
    " train_data, test_data = sampled_data.randomSplit([0.9, 0.1], seed=12345)"
   ]
  },
  {
   "cell_type": "code",
   "execution_count": 91,
   "metadata": {},
   "outputs": [
    {
     "ename": "IllegalArgumentException",
     "evalue": "'Data type string of column TMC is not supported.\\nData type string of column Severity is not supported.\\nData type string of column Start_Time is not supported.\\nData type string of column End_Time is not supported.\\nData type string of column Start_Lat is not supported.\\nData type string of column Start_Lng is not supported.\\nData type string of column Description is not supported.\\nData type string of column Street is not supported.\\nData type string of column Side is not supported.\\nData type string of column City is not supported.\\nData type string of column County is not supported.\\nData type string of column State is not supported.\\nData type string of column Zipcode is not supported.\\nData type string of column Country is not supported.\\nData type string of column Timezone is not supported.\\nData type string of column Airport_Code is not supported.\\nData type string of column Weather_Timestamp is not supported.\\nData type string of column Wind_Direction is not supported.\\nData type string of column Weather_Condition is not supported.\\nData type string of column Sunrise_Sunset is not supported.\\nData type string of column Civil_Twilight is not supported.\\nData type string of column Nautical_Twilight is not supported.\\nData type string of column Astronomical_Twilight is not supported.'",
     "output_type": "error",
     "traceback": [
      "\u001b[0;31m---------------------------------------------------------------------------\u001b[0m",
      "\u001b[0;31mPy4JJavaError\u001b[0m                             Traceback (most recent call last)",
      "\u001b[0;32m/usr/local/Cellar/apache-spark/2.4.5/libexec/python/pyspark/sql/utils.py\u001b[0m in \u001b[0;36mdeco\u001b[0;34m(*a, **kw)\u001b[0m\n\u001b[1;32m     62\u001b[0m         \u001b[0;32mtry\u001b[0m\u001b[0;34m:\u001b[0m\u001b[0;34m\u001b[0m\u001b[0;34m\u001b[0m\u001b[0m\n\u001b[0;32m---> 63\u001b[0;31m             \u001b[0;32mreturn\u001b[0m \u001b[0mf\u001b[0m\u001b[0;34m(\u001b[0m\u001b[0;34m*\u001b[0m\u001b[0ma\u001b[0m\u001b[0;34m,\u001b[0m \u001b[0;34m**\u001b[0m\u001b[0mkw\u001b[0m\u001b[0;34m)\u001b[0m\u001b[0;34m\u001b[0m\u001b[0;34m\u001b[0m\u001b[0m\n\u001b[0m\u001b[1;32m     64\u001b[0m         \u001b[0;32mexcept\u001b[0m \u001b[0mpy4j\u001b[0m\u001b[0;34m.\u001b[0m\u001b[0mprotocol\u001b[0m\u001b[0;34m.\u001b[0m\u001b[0mPy4JJavaError\u001b[0m \u001b[0;32mas\u001b[0m \u001b[0me\u001b[0m\u001b[0;34m:\u001b[0m\u001b[0;34m\u001b[0m\u001b[0;34m\u001b[0m\u001b[0m\n",
      "\u001b[0;32m/usr/local/Cellar/apache-spark/2.4.5/libexec/python/lib/py4j-0.10.7-src.zip/py4j/protocol.py\u001b[0m in \u001b[0;36mget_return_value\u001b[0;34m(answer, gateway_client, target_id, name)\u001b[0m\n\u001b[1;32m    327\u001b[0m                     \u001b[0;34m\"An error occurred while calling {0}{1}{2}.\\n\"\u001b[0m\u001b[0;34m.\u001b[0m\u001b[0;34m\u001b[0m\u001b[0;34m\u001b[0m\u001b[0m\n\u001b[0;32m--> 328\u001b[0;31m                     format(target_id, \".\", name), value)\n\u001b[0m\u001b[1;32m    329\u001b[0m             \u001b[0;32melse\u001b[0m\u001b[0;34m:\u001b[0m\u001b[0;34m\u001b[0m\u001b[0;34m\u001b[0m\u001b[0m\n",
      "\u001b[0;31mPy4JJavaError\u001b[0m: An error occurred while calling o2189.transform.\n: java.lang.IllegalArgumentException: Data type string of column TMC is not supported.\nData type string of column Severity is not supported.\nData type string of column Start_Time is not supported.\nData type string of column End_Time is not supported.\nData type string of column Start_Lat is not supported.\nData type string of column Start_Lng is not supported.\nData type string of column Description is not supported.\nData type string of column Street is not supported.\nData type string of column Side is not supported.\nData type string of column City is not supported.\nData type string of column County is not supported.\nData type string of column State is not supported.\nData type string of column Zipcode is not supported.\nData type string of column Country is not supported.\nData type string of column Timezone is not supported.\nData type string of column Airport_Code is not supported.\nData type string of column Weather_Timestamp is not supported.\nData type string of column Wind_Direction is not supported.\nData type string of column Weather_Condition is not supported.\nData type string of column Sunrise_Sunset is not supported.\nData type string of column Civil_Twilight is not supported.\nData type string of column Nautical_Twilight is not supported.\nData type string of column Astronomical_Twilight is not supported.\n\tat org.apache.spark.ml.feature.VectorAssembler.transformSchema(VectorAssembler.scala:169)\n\tat org.apache.spark.ml.PipelineStage.transformSchema(Pipeline.scala:74)\n\tat org.apache.spark.ml.feature.VectorAssembler.transform(VectorAssembler.scala:86)\n\tat sun.reflect.NativeMethodAccessorImpl.invoke0(Native Method)\n\tat sun.reflect.NativeMethodAccessorImpl.invoke(NativeMethodAccessorImpl.java:62)\n\tat sun.reflect.DelegatingMethodAccessorImpl.invoke(DelegatingMethodAccessorImpl.java:43)\n\tat java.lang.reflect.Method.invoke(Method.java:498)\n\tat py4j.reflection.MethodInvoker.invoke(MethodInvoker.java:244)\n\tat py4j.reflection.ReflectionEngine.invoke(ReflectionEngine.java:357)\n\tat py4j.Gateway.invoke(Gateway.java:282)\n\tat py4j.commands.AbstractCommand.invokeMethod(AbstractCommand.java:132)\n\tat py4j.commands.CallCommand.execute(CallCommand.java:79)\n\tat py4j.GatewayConnection.run(GatewayConnection.java:238)\n\tat java.lang.Thread.run(Thread.java:748)\n",
      "\nDuring handling of the above exception, another exception occurred:\n",
      "\u001b[0;31mIllegalArgumentException\u001b[0m                  Traceback (most recent call last)",
      "\u001b[0;32m<ipython-input-91-aab35499364b>\u001b[0m in \u001b[0;36m<module>\u001b[0;34m\u001b[0m\n\u001b[1;32m     62\u001b[0m \u001b[0;34m\u001b[0m\u001b[0m\n\u001b[1;32m     63\u001b[0m \u001b[0;31m# Run stages in pipeline and train model\u001b[0m\u001b[0;34m\u001b[0m\u001b[0;34m\u001b[0m\u001b[0;34m\u001b[0m\u001b[0m\n\u001b[0;32m---> 64\u001b[0;31m \u001b[0mmodel\u001b[0m \u001b[0;34m=\u001b[0m \u001b[0mpipeline\u001b[0m\u001b[0;34m.\u001b[0m\u001b[0mfit\u001b[0m\u001b[0;34m(\u001b[0m\u001b[0mtrain_data\u001b[0m\u001b[0;34m)\u001b[0m\u001b[0;34m\u001b[0m\u001b[0;34m\u001b[0m\u001b[0m\n\u001b[0m",
      "\u001b[0;32m/usr/local/Cellar/apache-spark/2.4.5/libexec/python/pyspark/ml/base.py\u001b[0m in \u001b[0;36mfit\u001b[0;34m(self, dataset, params)\u001b[0m\n\u001b[1;32m    130\u001b[0m                 \u001b[0;32mreturn\u001b[0m \u001b[0mself\u001b[0m\u001b[0;34m.\u001b[0m\u001b[0mcopy\u001b[0m\u001b[0;34m(\u001b[0m\u001b[0mparams\u001b[0m\u001b[0;34m)\u001b[0m\u001b[0;34m.\u001b[0m\u001b[0m_fit\u001b[0m\u001b[0;34m(\u001b[0m\u001b[0mdataset\u001b[0m\u001b[0;34m)\u001b[0m\u001b[0;34m\u001b[0m\u001b[0;34m\u001b[0m\u001b[0m\n\u001b[1;32m    131\u001b[0m             \u001b[0;32melse\u001b[0m\u001b[0;34m:\u001b[0m\u001b[0;34m\u001b[0m\u001b[0;34m\u001b[0m\u001b[0m\n\u001b[0;32m--> 132\u001b[0;31m                 \u001b[0;32mreturn\u001b[0m \u001b[0mself\u001b[0m\u001b[0;34m.\u001b[0m\u001b[0m_fit\u001b[0m\u001b[0;34m(\u001b[0m\u001b[0mdataset\u001b[0m\u001b[0;34m)\u001b[0m\u001b[0;34m\u001b[0m\u001b[0;34m\u001b[0m\u001b[0m\n\u001b[0m\u001b[1;32m    133\u001b[0m         \u001b[0;32melse\u001b[0m\u001b[0;34m:\u001b[0m\u001b[0;34m\u001b[0m\u001b[0;34m\u001b[0m\u001b[0m\n\u001b[1;32m    134\u001b[0m             raise ValueError(\"Params must be either a param map or a list/tuple of param maps, \"\n",
      "\u001b[0;32m/usr/local/Cellar/apache-spark/2.4.5/libexec/python/pyspark/ml/pipeline.py\u001b[0m in \u001b[0;36m_fit\u001b[0;34m(self, dataset)\u001b[0m\n\u001b[1;32m    105\u001b[0m                 \u001b[0;32mif\u001b[0m \u001b[0misinstance\u001b[0m\u001b[0;34m(\u001b[0m\u001b[0mstage\u001b[0m\u001b[0;34m,\u001b[0m \u001b[0mTransformer\u001b[0m\u001b[0;34m)\u001b[0m\u001b[0;34m:\u001b[0m\u001b[0;34m\u001b[0m\u001b[0;34m\u001b[0m\u001b[0m\n\u001b[1;32m    106\u001b[0m                     \u001b[0mtransformers\u001b[0m\u001b[0;34m.\u001b[0m\u001b[0mappend\u001b[0m\u001b[0;34m(\u001b[0m\u001b[0mstage\u001b[0m\u001b[0;34m)\u001b[0m\u001b[0;34m\u001b[0m\u001b[0;34m\u001b[0m\u001b[0m\n\u001b[0;32m--> 107\u001b[0;31m                     \u001b[0mdataset\u001b[0m \u001b[0;34m=\u001b[0m \u001b[0mstage\u001b[0m\u001b[0;34m.\u001b[0m\u001b[0mtransform\u001b[0m\u001b[0;34m(\u001b[0m\u001b[0mdataset\u001b[0m\u001b[0;34m)\u001b[0m\u001b[0;34m\u001b[0m\u001b[0;34m\u001b[0m\u001b[0m\n\u001b[0m\u001b[1;32m    108\u001b[0m                 \u001b[0;32melse\u001b[0m\u001b[0;34m:\u001b[0m  \u001b[0;31m# must be an Estimator\u001b[0m\u001b[0;34m\u001b[0m\u001b[0;34m\u001b[0m\u001b[0m\n\u001b[1;32m    109\u001b[0m                     \u001b[0mmodel\u001b[0m \u001b[0;34m=\u001b[0m \u001b[0mstage\u001b[0m\u001b[0;34m.\u001b[0m\u001b[0mfit\u001b[0m\u001b[0;34m(\u001b[0m\u001b[0mdataset\u001b[0m\u001b[0;34m)\u001b[0m\u001b[0;34m\u001b[0m\u001b[0;34m\u001b[0m\u001b[0m\n",
      "\u001b[0;32m/usr/local/Cellar/apache-spark/2.4.5/libexec/python/pyspark/ml/base.py\u001b[0m in \u001b[0;36mtransform\u001b[0;34m(self, dataset, params)\u001b[0m\n\u001b[1;32m    171\u001b[0m                 \u001b[0;32mreturn\u001b[0m \u001b[0mself\u001b[0m\u001b[0;34m.\u001b[0m\u001b[0mcopy\u001b[0m\u001b[0;34m(\u001b[0m\u001b[0mparams\u001b[0m\u001b[0;34m)\u001b[0m\u001b[0;34m.\u001b[0m\u001b[0m_transform\u001b[0m\u001b[0;34m(\u001b[0m\u001b[0mdataset\u001b[0m\u001b[0;34m)\u001b[0m\u001b[0;34m\u001b[0m\u001b[0;34m\u001b[0m\u001b[0m\n\u001b[1;32m    172\u001b[0m             \u001b[0;32melse\u001b[0m\u001b[0;34m:\u001b[0m\u001b[0;34m\u001b[0m\u001b[0;34m\u001b[0m\u001b[0m\n\u001b[0;32m--> 173\u001b[0;31m                 \u001b[0;32mreturn\u001b[0m \u001b[0mself\u001b[0m\u001b[0;34m.\u001b[0m\u001b[0m_transform\u001b[0m\u001b[0;34m(\u001b[0m\u001b[0mdataset\u001b[0m\u001b[0;34m)\u001b[0m\u001b[0;34m\u001b[0m\u001b[0;34m\u001b[0m\u001b[0m\n\u001b[0m\u001b[1;32m    174\u001b[0m         \u001b[0;32melse\u001b[0m\u001b[0;34m:\u001b[0m\u001b[0;34m\u001b[0m\u001b[0;34m\u001b[0m\u001b[0m\n\u001b[1;32m    175\u001b[0m             \u001b[0;32mraise\u001b[0m \u001b[0mValueError\u001b[0m\u001b[0;34m(\u001b[0m\u001b[0;34m\"Params must be a param map but got %s.\"\u001b[0m \u001b[0;34m%\u001b[0m \u001b[0mtype\u001b[0m\u001b[0;34m(\u001b[0m\u001b[0mparams\u001b[0m\u001b[0;34m)\u001b[0m\u001b[0;34m)\u001b[0m\u001b[0;34m\u001b[0m\u001b[0;34m\u001b[0m\u001b[0m\n",
      "\u001b[0;32m/usr/local/Cellar/apache-spark/2.4.5/libexec/python/pyspark/ml/wrapper.py\u001b[0m in \u001b[0;36m_transform\u001b[0;34m(self, dataset)\u001b[0m\n\u001b[1;32m    310\u001b[0m     \u001b[0;32mdef\u001b[0m \u001b[0m_transform\u001b[0m\u001b[0;34m(\u001b[0m\u001b[0mself\u001b[0m\u001b[0;34m,\u001b[0m \u001b[0mdataset\u001b[0m\u001b[0;34m)\u001b[0m\u001b[0;34m:\u001b[0m\u001b[0;34m\u001b[0m\u001b[0;34m\u001b[0m\u001b[0m\n\u001b[1;32m    311\u001b[0m         \u001b[0mself\u001b[0m\u001b[0;34m.\u001b[0m\u001b[0m_transfer_params_to_java\u001b[0m\u001b[0;34m(\u001b[0m\u001b[0;34m)\u001b[0m\u001b[0;34m\u001b[0m\u001b[0;34m\u001b[0m\u001b[0m\n\u001b[0;32m--> 312\u001b[0;31m         \u001b[0;32mreturn\u001b[0m \u001b[0mDataFrame\u001b[0m\u001b[0;34m(\u001b[0m\u001b[0mself\u001b[0m\u001b[0;34m.\u001b[0m\u001b[0m_java_obj\u001b[0m\u001b[0;34m.\u001b[0m\u001b[0mtransform\u001b[0m\u001b[0;34m(\u001b[0m\u001b[0mdataset\u001b[0m\u001b[0;34m.\u001b[0m\u001b[0m_jdf\u001b[0m\u001b[0;34m)\u001b[0m\u001b[0;34m,\u001b[0m \u001b[0mdataset\u001b[0m\u001b[0;34m.\u001b[0m\u001b[0msql_ctx\u001b[0m\u001b[0;34m)\u001b[0m\u001b[0;34m\u001b[0m\u001b[0;34m\u001b[0m\u001b[0m\n\u001b[0m\u001b[1;32m    313\u001b[0m \u001b[0;34m\u001b[0m\u001b[0m\n\u001b[1;32m    314\u001b[0m \u001b[0;34m\u001b[0m\u001b[0m\n",
      "\u001b[0;32m/usr/local/Cellar/apache-spark/2.4.5/libexec/python/lib/py4j-0.10.7-src.zip/py4j/java_gateway.py\u001b[0m in \u001b[0;36m__call__\u001b[0;34m(self, *args)\u001b[0m\n\u001b[1;32m   1255\u001b[0m         \u001b[0manswer\u001b[0m \u001b[0;34m=\u001b[0m \u001b[0mself\u001b[0m\u001b[0;34m.\u001b[0m\u001b[0mgateway_client\u001b[0m\u001b[0;34m.\u001b[0m\u001b[0msend_command\u001b[0m\u001b[0;34m(\u001b[0m\u001b[0mcommand\u001b[0m\u001b[0;34m)\u001b[0m\u001b[0;34m\u001b[0m\u001b[0;34m\u001b[0m\u001b[0m\n\u001b[1;32m   1256\u001b[0m         return_value = get_return_value(\n\u001b[0;32m-> 1257\u001b[0;31m             answer, self.gateway_client, self.target_id, self.name)\n\u001b[0m\u001b[1;32m   1258\u001b[0m \u001b[0;34m\u001b[0m\u001b[0m\n\u001b[1;32m   1259\u001b[0m         \u001b[0;32mfor\u001b[0m \u001b[0mtemp_arg\u001b[0m \u001b[0;32min\u001b[0m \u001b[0mtemp_args\u001b[0m\u001b[0;34m:\u001b[0m\u001b[0;34m\u001b[0m\u001b[0;34m\u001b[0m\u001b[0m\n",
      "\u001b[0;32m/usr/local/Cellar/apache-spark/2.4.5/libexec/python/pyspark/sql/utils.py\u001b[0m in \u001b[0;36mdeco\u001b[0;34m(*a, **kw)\u001b[0m\n\u001b[1;32m     77\u001b[0m                 \u001b[0;32mraise\u001b[0m \u001b[0mQueryExecutionException\u001b[0m\u001b[0;34m(\u001b[0m\u001b[0ms\u001b[0m\u001b[0;34m.\u001b[0m\u001b[0msplit\u001b[0m\u001b[0;34m(\u001b[0m\u001b[0;34m': '\u001b[0m\u001b[0;34m,\u001b[0m \u001b[0;36m1\u001b[0m\u001b[0;34m)\u001b[0m\u001b[0;34m[\u001b[0m\u001b[0;36m1\u001b[0m\u001b[0;34m]\u001b[0m\u001b[0;34m,\u001b[0m \u001b[0mstackTrace\u001b[0m\u001b[0;34m)\u001b[0m\u001b[0;34m\u001b[0m\u001b[0;34m\u001b[0m\u001b[0m\n\u001b[1;32m     78\u001b[0m             \u001b[0;32mif\u001b[0m \u001b[0ms\u001b[0m\u001b[0;34m.\u001b[0m\u001b[0mstartswith\u001b[0m\u001b[0;34m(\u001b[0m\u001b[0;34m'java.lang.IllegalArgumentException: '\u001b[0m\u001b[0;34m)\u001b[0m\u001b[0;34m:\u001b[0m\u001b[0;34m\u001b[0m\u001b[0;34m\u001b[0m\u001b[0m\n\u001b[0;32m---> 79\u001b[0;31m                 \u001b[0;32mraise\u001b[0m \u001b[0mIllegalArgumentException\u001b[0m\u001b[0;34m(\u001b[0m\u001b[0ms\u001b[0m\u001b[0;34m.\u001b[0m\u001b[0msplit\u001b[0m\u001b[0;34m(\u001b[0m\u001b[0;34m': '\u001b[0m\u001b[0;34m,\u001b[0m \u001b[0;36m1\u001b[0m\u001b[0;34m)\u001b[0m\u001b[0;34m[\u001b[0m\u001b[0;36m1\u001b[0m\u001b[0;34m]\u001b[0m\u001b[0;34m,\u001b[0m \u001b[0mstackTrace\u001b[0m\u001b[0;34m)\u001b[0m\u001b[0;34m\u001b[0m\u001b[0;34m\u001b[0m\u001b[0m\n\u001b[0m\u001b[1;32m     80\u001b[0m             \u001b[0;32mraise\u001b[0m\u001b[0;34m\u001b[0m\u001b[0;34m\u001b[0m\u001b[0m\n\u001b[1;32m     81\u001b[0m     \u001b[0;32mreturn\u001b[0m \u001b[0mdeco\u001b[0m\u001b[0;34m\u001b[0m\u001b[0;34m\u001b[0m\u001b[0m\n",
      "\u001b[0;31mIllegalArgumentException\u001b[0m: 'Data type string of column TMC is not supported.\\nData type string of column Severity is not supported.\\nData type string of column Start_Time is not supported.\\nData type string of column End_Time is not supported.\\nData type string of column Start_Lat is not supported.\\nData type string of column Start_Lng is not supported.\\nData type string of column Description is not supported.\\nData type string of column Street is not supported.\\nData type string of column Side is not supported.\\nData type string of column City is not supported.\\nData type string of column County is not supported.\\nData type string of column State is not supported.\\nData type string of column Zipcode is not supported.\\nData type string of column Country is not supported.\\nData type string of column Timezone is not supported.\\nData type string of column Airport_Code is not supported.\\nData type string of column Weather_Timestamp is not supported.\\nData type string of column Wind_Direction is not supported.\\nData type string of column Weather_Condition is not supported.\\nData type string of column Sunrise_Sunset is not supported.\\nData type string of column Civil_Twilight is not supported.\\nData type string of column Nautical_Twilight is not supported.\\nData type string of column Astronomical_Twilight is not supported.'"
     ]
    }
   ],
   "source": [
    "#Code for Naive Bayes \n",
    "standardscaler=StandardScaler().setInputCol(\"features\").setOutputCol(\"Scaled_features\")\n",
    "#PCA\n",
    "pca = PCA(k=10, inputCol=\"Scaled_features\", outputCol=\"pcaFeatures\")\n",
    "\n",
    "# Train a NaiveBayes model\n",
    "nb = NaiveBayes(smoothing=1.0, modelType=\"multinomial\")\n",
    "\n",
    "# Chain labelIndexer, vecAssembler and NBmodel in a \n",
    "pipeline = Pipeline(stages=[standardscaler, pca, nb])\n",
    "\n",
    "# Run stages in pipeline and train model\n",
    "model1 = pipeline.fit(train_data)\n"
   ]
  },
  {
   "cell_type": "code",
   "execution_count": null,
   "metadata": {},
   "outputs": [],
   "source": [
    "#Code for Logistic Regression\n",
    "css = ChiSqSelector(featuresCol='Scaled_features',outputCol='Aspect',labelCol='Outcome',fpr=0.05)\n",
    "from pyspark.ml.classification import LogisticRegression\n",
    "lr = LogisticRegression(labelCol=\"Outcome\", featuresCol=\"Aspect\",weightCol=\"classWeights\",maxIter=10)\n",
    "model=lr.fit(train)\n",
    "predict_train=model.transform(train)\n",
    "predict_test=model.transform(test)\n",
    "predict_test.select(\"Outcome\",\"prediction\").show(10)"
   ]
  },
  {
   "cell_type": "code",
   "execution_count": null,
   "metadata": {},
   "outputs": [],
   "source": [
    "# #Crete a new column for z_values of temp if the z value is greater than 2.5 consider it an outlier\n",
    "# data['temp_dist'] = np.abs(stats.zscore(data['Temperature(F)']))\n",
    "# # No outliers in temprature data proved by below line of code\n",
    "# (data['temp_dist']>=2).sum()"
   ]
  },
  {
   "cell_type": "code",
   "execution_count": null,
   "metadata": {},
   "outputs": [],
   "source": [
    "# #Crete a new column for z_values of Wind_Chill(F) if the z value is greater than 2.5 consider it an outlier\n",
    "# data['windchill_z'] = np.abs(stats.zscore(data['Wind_Chill(F)']))\n",
    "# # No outliers in Wind_Chill(F) data proved by below line of code\n",
    "# (data['windchill_z']>=2).sum()\n"
   ]
  },
  {
   "cell_type": "code",
   "execution_count": null,
   "metadata": {},
   "outputs": [],
   "source": [
    "# #Crete a new column for z_values of Humidity if the z value is greater than 2.5 consider it an outlier\n",
    "# data['humid_z'] = np.abs(stats.zscore(data['Humidity(%)']))\n",
    "# # No outliers in Humidity data proved by below line of code\n",
    "# (data['humid_z']>=2).sum()"
   ]
  },
  {
   "cell_type": "code",
   "execution_count": null,
   "metadata": {},
   "outputs": [],
   "source": [
    "# #Crete a new column for z_values of Pressure if the z value is greater than 2.5 consider it an outlier\n",
    "# data['press_z'] = np.abs(stats.zscore(data['Pressure(in)']))\n",
    "# # No outliers in Pressure data proved by below line of code\n",
    "# (data['press_z']>=2).sum()"
   ]
  },
  {
   "cell_type": "code",
   "execution_count": null,
   "metadata": {},
   "outputs": [],
   "source": [
    "# #Crete a new column for z_values of Visibility if the z value is greater than 2.5 consider it an outlier\n",
    "# data['vis_z'] = np.abs(stats.zscore(data['Visibility(mi)']))\n",
    "# # No outliers in Visibility data proved by below line of code\n",
    "# (data['vis_z']>=2).sum()\n"
   ]
  },
  {
   "cell_type": "code",
   "execution_count": null,
   "metadata": {},
   "outputs": [],
   "source": [
    "# #Crete a new column for z_values of Wind_Speed if the z value is greater than 2.5 consider it an outlier\n",
    "# data['winds_z'] = np.abs(stats.zscore(data['Wind_Speed(mph)']))\n",
    "# # No outliers in Wind_Speed data proved by below line of code\n",
    "# (data['winds_z']>=2).sum()"
   ]
  },
  {
   "cell_type": "code",
   "execution_count": null,
   "metadata": {},
   "outputs": [],
   "source": [
    "# #Crete a new column for z_values of Precipitation if the z value is greater than 2.5 consider it an outlier\n",
    "# data['precipitate_z'] = np.abs(stats.zscore(data['Precipitation(in)']))\n",
    "# # No outliers in Precipitation data proved by below line of code\n",
    "# (data['precipitate_z']>=2).sum()"
   ]
  },
  {
   "cell_type": "code",
   "execution_count": null,
   "metadata": {},
   "outputs": [],
   "source": [
    "# #Replace Nan values column with median value for that county\n",
    "# for i in range(0,len(data['County'])):\n",
    "#     if pd.isna(data['Temperature(F)'][i]):\n",
    "#         data['Temperature(F)'][i]=(data.loc[data['County'] == str(data['County'][i]), 'Temperature(F)'].median())\n",
    "#     if pd.isna(data['Wind_Chill(F)'][i]):\n",
    "#         data['Wind_Chill(F)'][i]=(data.loc[data['County'] == str(data['County'][i]), 'Wind_Chill(F)'].median())\n",
    "#     if pd.isna(data['Humidity(%)'][i]):\n",
    "#         data['Humidity(%)'][i]=(data.loc[data['County'] == str(data['County'][i]), 'Humidity(%)'].median())\n",
    "#     if pd.isna(data['Pressure(in)'][i]):\n",
    "#         data['Pressure(in)'][i]=(data.loc[data['County'] == str(data['County'][i]), 'Pressure(in)'].median())\n",
    "#     if pd.isna(data['Visibility(mi)'][i]):\n",
    "#         data['Visibility(mi)'][i]=(data.loc[data['County'] == str(data['County'][i]), 'Visibility(mi)'].median())\n",
    "#     if pd.isna(data['Wind_Speed(mph)'][i]):\n",
    "#         data['Wind_Speed(mph)'][i]=(data.loc[data['County'] == str(data['County'][i]), 'Wind_Speed(mph)'].median())\n",
    "#     if pd.isna(data['Precipitation(in)'][i]):\n",
    "#         data['Precipitation(in)'][i]=(data.loc[data['County'] == str(data['County'][i]), 'Precipitation(in)'].median())"
   ]
  },
  {
   "cell_type": "code",
   "execution_count": null,
   "metadata": {},
   "outputs": [],
   "source": [
    "# data['Temperature(F)'].isna().sum()"
   ]
  },
  {
   "cell_type": "code",
   "execution_count": null,
   "metadata": {},
   "outputs": [],
   "source": []
  },
  {
   "cell_type": "code",
   "execution_count": null,
   "metadata": {},
   "outputs": [],
   "source": []
  }
 ],
 "metadata": {
  "kernelspec": {
   "display_name": "Python 3",
   "language": "python",
   "name": "python3"
  },
  "language_info": {
   "codemirror_mode": {
    "name": "ipython",
    "version": 3
   },
   "file_extension": ".py",
   "mimetype": "text/x-python",
   "name": "python",
   "nbconvert_exporter": "python",
   "pygments_lexer": "ipython3",
   "version": "3.7.4"
  }
 },
 "nbformat": 4,
 "nbformat_minor": 2
}
