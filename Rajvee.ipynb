{
 "cells": [
  {
   "cell_type": "code",
   "execution_count": 2,
   "metadata": {},
   "outputs": [],
   "source": [
    "#practice"
   ]
  },
  {
   "cell_type": "code",
   "execution_count": 3,
   "metadata": {},
   "outputs": [],
   "source": [
    "# Rajvee Shah"
   ]
  },
  {
   "cell_type": "code",
   "execution_count": null,
   "metadata": {},
   "outputs": [],
   "source": [
    "# what does removing get_training_filename do?"
   ]
  },
  {
   "cell_type": "code",
   "execution_count": 29,
   "metadata": {},
   "outputs": [],
   "source": [
    "# imports\n",
    "\n",
    "# cell 1: Loading data into Spark\n",
    "from pyspark.sql import SparkSession\n",
    "\n",
    "spark = SparkSession.builder.getOrCreate()\n",
    "sc = spark.sparkContext\n",
    "\n",
    "# cell 6: Change datatype\n",
    "from pyspark.sql.types import StringType, IntegerType, TimestampType,  DoubleType\n",
    "\n",
    "# cell 7: Correlation matrix\n",
    "from pyspark.ml.stat import Correlation\n",
    "from pyspark.ml.linalg import Vectors\n",
    "from pyspark.ml.feature import VectorAssembler\n",
    "from pyspark.mllib.stat import Statistics"
   ]
  },
  {
   "cell_type": "code",
   "execution_count": 30,
   "metadata": {},
   "outputs": [
    {
     "name": "stdout",
     "output_type": "stream",
     "text": [
      "+---+--------+-----+--------+-------------------+-------------------+---------+----------+-------+-------+------------+--------------------+------+--------------+----+------------+----------+-----+----------+-------+----------+------------+-------------------+--------------+-------------+-----------+------------+--------------+--------------+---------------+-----------------+-----------------+-------+-----+--------+--------+--------+-------+-------+----------+-------+-----+---------------+--------------+------------+--------------+--------------+-----------------+---------------------+\n",
      "| ID|  Source|  TMC|Severity|         Start_Time|           End_Time|Start_Lat| Start_Lng|End_Lat|End_Lng|Distance(mi)|         Description|Number|        Street|Side|        City|    County|State|   Zipcode|Country|  Timezone|Airport_Code|  Weather_Timestamp|Temperature(F)|Wind_Chill(F)|Humidity(%)|Pressure(in)|Visibility(mi)|Wind_Direction|Wind_Speed(mph)|Precipitation(in)|Weather_Condition|Amenity| Bump|Crossing|Give_Way|Junction|No_Exit|Railway|Roundabout|Station| Stop|Traffic_Calming|Traffic_Signal|Turning_Loop|Sunrise_Sunset|Civil_Twilight|Nautical_Twilight|Astronomical_Twilight|\n",
      "+---+--------+-----+--------+-------------------+-------------------+---------+----------+-------+-------+------------+--------------------+------+--------------+----+------------+----------+-----+----------+-------+----------+------------+-------------------+--------------+-------------+-----------+------------+--------------+--------------+---------------+-----------------+-----------------+-------+-----+--------+--------+--------+-------+-------+----------+-------+-----+---------------+--------------+------------+--------------+--------------+-----------------+---------------------+\n",
      "|A-1|MapQuest|201.0|       3|2016-02-08 05:46:00|2016-02-08 11:00:00|39.865147|-84.058723|   null|   null|        0.01|Right lane blocke...|  null|        I-70 E|   R|      Dayton|Montgomery|   OH|     45424|     US|US/Eastern|        KFFO|2016-02-08 05:58:00|          36.9|         null|       91.0|       29.68|          10.0|          Calm|           null|             0.02|       Light Rain|  false|false|   false|   false|   false|  false|  false|     false|  false|false|          false|         false|       false|         Night|         Night|            Night|                Night|\n",
      "|A-2|MapQuest|201.0|       2|2016-02-08 06:07:59|2016-02-08 06:37:59|39.928059|-82.831184|   null|   null|        0.01|Accident on Brice...|2584.0|      Brice Rd|   L|Reynoldsburg|  Franklin|   OH|43068-3402|     US|US/Eastern|        KCMH|2016-02-08 05:51:00|          37.9|         null|      100.0|       29.65|          10.0|          Calm|           null|              0.0|       Light Rain|  false|false|   false|   false|   false|  false|  false|     false|  false|false|          false|         false|       false|         Night|         Night|            Night|                  Day|\n",
      "|A-3|MapQuest|201.0|       2|2016-02-08 06:49:27|2016-02-08 07:19:27|39.063148|-84.032608|   null|   null|        0.01|Accident on OH-32...|  null|State Route 32|   R|Williamsburg|  Clermont|   OH|     45176|     US|US/Eastern|        KI69|2016-02-08 06:56:00|          36.0|         33.3|      100.0|       29.67|          10.0|            SW|            3.5|             null|         Overcast|  false|false|   false|   false|   false|  false|  false|     false|  false|false|          false|          true|       false|         Night|         Night|              Day|                  Day|\n",
      "+---+--------+-----+--------+-------------------+-------------------+---------+----------+-------+-------+------------+--------------------+------+--------------+----+------------+----------+-----+----------+-------+----------+------------+-------------------+--------------+-------------+-----------+------------+--------------+--------------+---------------+-----------------+-----------------+-------+-----+--------+--------+--------+-------+-------+----------+-------+-----+---------------+--------------+------------+--------------+--------------+-----------------+---------------------+\n",
      "only showing top 3 rows\n",
      "\n"
     ]
    }
   ],
   "source": [
    "from pyspark.sql import SparkSession\n",
    "\n",
    "spark = SparkSession.builder.getOrCreate()\n",
    "sc = spark.sparkContext\n",
    "\n",
    "#read US_Accidents_Dec19.csv file into a spark dataframe named US_accidents_df\n",
    "US_accidents_df = spark.read.csv(('US_Accidents_Dec19.csv'), header = True, inferSchema=True)\n",
    "US_accidents_df.show(3)"
   ]
  },
  {
   "cell_type": "code",
   "execution_count": 31,
   "metadata": {},
   "outputs": [
    {
     "data": {
      "text/plain": [
       "[Row(Severity=3, City='Dayton', County='Montgomery', State='OH', Zipcode='45424', Country='US', Timezone='US/Eastern', Airport_Code='KFFO', Weather_Timestamp=datetime.datetime(2016, 2, 8, 5, 58), Temperature(F)=36.9, Wind_Chill(F)=None, Humidity(%)=91.0, Pressure(in)=29.68, Visibility(mi)=10.0),\n",
       " Row(Severity=2, City='Reynoldsburg', County='Franklin', State='OH', Zipcode='43068-3402', Country='US', Timezone='US/Eastern', Airport_Code='KCMH', Weather_Timestamp=datetime.datetime(2016, 2, 8, 5, 51), Temperature(F)=37.9, Wind_Chill(F)=None, Humidity(%)=100.0, Pressure(in)=29.65, Visibility(mi)=10.0),\n",
       " Row(Severity=2, City='Williamsburg', County='Clermont', State='OH', Zipcode='45176', Country='US', Timezone='US/Eastern', Airport_Code='KI69', Weather_Timestamp=datetime.datetime(2016, 2, 8, 6, 56), Temperature(F)=36.0, Wind_Chill(F)=33.3, Humidity(%)=100.0, Pressure(in)=29.67, Visibility(mi)=10.0),\n",
       " Row(Severity=3, City='Dayton', County='Montgomery', State='OH', Zipcode='45417', Country='US', Timezone='US/Eastern', Airport_Code='KDAY', Weather_Timestamp=datetime.datetime(2016, 2, 8, 7, 38), Temperature(F)=35.1, Wind_Chill(F)=31.0, Humidity(%)=96.0, Pressure(in)=29.64, Visibility(mi)=9.0),\n",
       " Row(Severity=2, City='Dayton', County='Montgomery', State='OH', Zipcode='45459', Country='US', Timezone='US/Eastern', Airport_Code='KMGY', Weather_Timestamp=datetime.datetime(2016, 2, 8, 7, 53), Temperature(F)=36.0, Wind_Chill(F)=33.3, Humidity(%)=89.0, Pressure(in)=29.65, Visibility(mi)=6.0),\n",
       " Row(Severity=3, City='Westerville', County='Franklin', State='OH', Zipcode='43081', Country='US', Timezone='US/Eastern', Airport_Code='KCMH', Weather_Timestamp=datetime.datetime(2016, 2, 8, 7, 51), Temperature(F)=37.9, Wind_Chill(F)=35.5, Humidity(%)=97.0, Pressure(in)=29.63, Visibility(mi)=7.0),\n",
       " Row(Severity=2, City='Dayton', County='Montgomery', State='OH', Zipcode='45417-2476', Country='US', Timezone='US/Eastern', Airport_Code='KDAY', Weather_Timestamp=datetime.datetime(2016, 2, 8, 7, 56), Temperature(F)=34.0, Wind_Chill(F)=31.0, Humidity(%)=100.0, Pressure(in)=29.66, Visibility(mi)=7.0),\n",
       " Row(Severity=3, City='Dayton', County='Montgomery', State='OH', Zipcode='45405', Country='US', Timezone='US/Eastern', Airport_Code='KDAY', Weather_Timestamp=datetime.datetime(2016, 2, 8, 7, 56), Temperature(F)=34.0, Wind_Chill(F)=31.0, Humidity(%)=100.0, Pressure(in)=29.66, Visibility(mi)=7.0),\n",
       " Row(Severity=2, City='Dayton', County='Montgomery', State='OH', Zipcode='45404-1923', Country='US', Timezone='US/Eastern', Airport_Code='KFFO', Weather_Timestamp=datetime.datetime(2016, 2, 8, 7, 58), Temperature(F)=33.3, Wind_Chill(F)=None, Humidity(%)=99.0, Pressure(in)=29.67, Visibility(mi)=5.0),\n",
       " Row(Severity=3, City='Westerville', County='Franklin', State='OH', Zipcode='43081', Country='US', Timezone='US/Eastern', Airport_Code='KCMH', Weather_Timestamp=datetime.datetime(2016, 2, 8, 8, 28), Temperature(F)=37.4, Wind_Chill(F)=33.8, Humidity(%)=100.0, Pressure(in)=29.62, Visibility(mi)=3.0)]"
      ]
     },
     "execution_count": 31,
     "metadata": {},
     "output_type": "execute_result"
    }
   ],
   "source": [
    "# I am working on columns from 'City' (column 14) to 'Visibility' (column 26)\n",
    "# so dropping other columns\n",
    "\n",
    "US_accidents_df = US_accidents_df.select(\"Severity\", \"City\", \"County\", \"State\", \"Zipcode\", \"Country\", \"Timezone\", \n",
    "                                         \"Airport_Code\", \"Weather_Timestamp\", \"Temperature(F)\",\n",
    "                                         \"Wind_Chill(F)\", \"Humidity(%)\", \"Pressure(in)\", \"Visibility(mi)\")\n",
    "US_accidents_df.head(10)"
   ]
  },
  {
   "cell_type": "code",
   "execution_count": 32,
   "metadata": {},
   "outputs": [],
   "source": [
    "US_accidents_df = US_accidents_df.toDF(\"Severity\", \"City\", \"County\", \"State\", \"Zipcode\", \"Country\", \"Timezone\", \n",
    "                                         \"Airport_Code\", \"Weather_Timestamp\", \"Temperature(F)\",\n",
    "                                         \"Wind_Chill(F)\", \"Humidity(%)\", \"Pressure(in)\", \"Visibility(mi)\")"
   ]
  },
  {
   "cell_type": "code",
   "execution_count": 33,
   "metadata": {},
   "outputs": [
    {
     "data": {
      "text/plain": [
       "['Severity',\n",
       " 'City',\n",
       " 'County',\n",
       " 'State',\n",
       " 'Zipcode',\n",
       " 'Country',\n",
       " 'Timezone',\n",
       " 'Airport_Code',\n",
       " 'Weather_Timestamp',\n",
       " 'Temperature(F)',\n",
       " 'Wind_Chill(F)',\n",
       " 'Humidity(%)',\n",
       " 'Pressure(in)',\n",
       " 'Visibility(mi)']"
      ]
     },
     "execution_count": 33,
     "metadata": {},
     "output_type": "execute_result"
    }
   ],
   "source": [
    "US_accidents_df.columns"
   ]
  },
  {
   "cell_type": "code",
   "execution_count": 34,
   "metadata": {},
   "outputs": [
    {
     "data": {
      "text/plain": [
       "DataFrame[summary: string, Severity: string, City: string, County: string, State: string, Zipcode: string, Country: string, Timezone: string, Airport_Code: string, Temperature(F): string, Wind_Chill(F): string, Humidity(%): string, Pressure(in): string, Visibility(mi): string]"
      ]
     },
     "execution_count": 34,
     "metadata": {},
     "output_type": "execute_result"
    }
   ],
   "source": [
    "US_accidents_df.describe()"
   ]
  },
  {
   "cell_type": "code",
   "execution_count": 39,
   "metadata": {},
   "outputs": [
    {
     "data": {
      "image/png": "[encoded data removed]",
      "text/plain": [
       "<Figure size 864x576 with 1 Axes>"
      ]
     },
     "metadata": {
      "needs_background": "light"
     },
     "output_type": "display_data"
    }
   ],
   "source": [
    "import numpy as np\n",
    "import pandas as pd\n",
    "import matplotlib.pyplot as plt\n",
    "import seaborn as sns\n",
    "#import plotly.graph_objects as go\n",
    "import matplotlib.ticker as ticker\n",
    "\n",
    "fig, ax = plt.subplots(figsize=(12,8))\n",
    "#fig.set_facecolor('lightgrey') #changes color around the plot area\n",
    "#fig.set_axis_bgcolor('lightgrey')\n",
    "\n",
    "US_accidents_df.groupby('State')\n",
    "ax.set_title('Reporting by State', fontsize=22, style='italic')\n",
    "ax.grid(linestyle=':', linewidth = '0.2', color ='salmon')\n",
    "ax.spines['left'].set_visible(True)\n",
    "ax.spines['right'].set_visible(False)\n",
    "ax.spines['top'].set_visible(False)\n",
    "ax.spines['bottom'].set_visible(False)"
   ]
  },
  {
   "cell_type": "code",
   "execution_count": 43,
   "metadata": {},
   "outputs": [
    {
     "ename": "AttributeError",
     "evalue": "'GroupedData' object has no attribute 'size'",
     "output_type": "error",
     "traceback": [
      "\u001b[0;31m---------------------------------------------------------------------------\u001b[0m",
      "\u001b[0;31mAttributeError\u001b[0m                            Traceback (most recent call last)",
      "\u001b[0;32m<ipython-input-43-77e4eaf53d0f>\u001b[0m in \u001b[0;36m<module>\u001b[0;34m\u001b[0m\n\u001b[0;32m----> 1\u001b[0;31m \u001b[0mUS_accidents_df\u001b[0m\u001b[0;34m.\u001b[0m\u001b[0mgroupby\u001b[0m\u001b[0;34m(\u001b[0m\u001b[0;34m'Severity'\u001b[0m\u001b[0;34m)\u001b[0m\u001b[0;34m.\u001b[0m\u001b[0msize\u001b[0m\u001b[0;34m(\u001b[0m\u001b[0;34m)\u001b[0m\u001b[0;34m\u001b[0m\u001b[0;34m\u001b[0m\u001b[0m\n\u001b[0m",
      "\u001b[0;31mAttributeError\u001b[0m: 'GroupedData' object has no attribute 'size'"
     ]
    }
   ],
   "source": [
    "US_accidents_df.groupby('Severity').size()"
   ]
  },
  {
   "cell_type": "code",
   "execution_count": 7,
   "metadata": {},
   "outputs": [],
   "source": [
    "# change datatype of some columns\n",
    "\n",
    "from pyspark.sql.types import StringType, IntegerType, TimestampType,  DoubleType\n",
    "\n",
    "US_accidents_df = US_accidents_df.withColumn(\"Severity\", US_accidents_df[\"Severity\"].cast(IntegerType()))\n",
    "# city is already string\n",
    "# county is already string\n",
    "# state is already string\n",
    "US_accidents_df = US_accidents_df.withColumn(\"Zipcode\", US_accidents_df[\"Zipcode\"].cast(IntegerType()))\n",
    "# country is already string\n",
    "# timezone is already string\n",
    "# airport_code is already string\n",
    "US_accidents_df = US_accidents_df.withColumn(\"Weather_Timestamp\", US_accidents_df[\"Zipcode\"]\\\n",
    "                                             .cast(TimestampType()))\n",
    "US_accidents_df = US_accidents_df.withColumn(\"Temperature(F)\", US_accidents_df[\"Temperature(F)\"]\\\n",
    "                                             .cast(DoubleType()))\n",
    "US_accidents_df = US_accidents_df.withColumn(\"Wind_Chill(F)\", US_accidents_df[\"Wind_Chill(F)\"].cast(DoubleType()))\n",
    "US_accidents_df = US_accidents_df.withColumn(\"Humidity(%)\", US_accidents_df[\"Humidity(%)\"].cast(IntegerType()))\n",
    "US_accidents_df = US_accidents_df.withColumn(\"Pressure(in)\", US_accidents_df[\"Pressure(in)\"].cast(DoubleType()))\n",
    "US_accidents_df = US_accidents_df.withColumn(\"Visibility(mi)\", US_accidents_df[\"Visibility(mi)\"]\\\n",
    "                                             .cast(DoubleType()))"
   ]
  },
  {
   "cell_type": "code",
   "execution_count": 8,
   "metadata": {},
   "outputs": [
    {
     "data": {
      "text/plain": [
       "DataFrame[summary: string, Severity: string, City: string, County: string, State: string, Zipcode: string, Country: string, Timezone: string, Airport_Code: string, Temperature(F): string, Wind_Chill(F): string, Humidity(%): string, Pressure(in): string, Visibility(mi): string]"
      ]
     },
     "execution_count": 8,
     "metadata": {},
     "output_type": "execute_result"
    }
   ],
   "source": [
    "US_accidents_df.describe()"
   ]
  },
  {
   "cell_type": "code",
   "execution_count": 9,
   "metadata": {},
   "outputs": [
    {
     "name": "stdout",
     "output_type": "stream",
     "text": [
      "+--------------------+\n",
      "|corr(City, Severity)|\n",
      "+--------------------+\n",
      "|                null|\n",
      "+--------------------+\n",
      "\n",
      "+----------------------+\n",
      "|corr(County, Severity)|\n",
      "+----------------------+\n",
      "|                  null|\n",
      "+----------------------+\n",
      "\n",
      "+---------------------+\n",
      "|corr(State, Severity)|\n",
      "+---------------------+\n",
      "|                 null|\n",
      "+---------------------+\n",
      "\n",
      "+-----------------------+\n",
      "|corr(Zipcode, Severity)|\n",
      "+-----------------------+\n",
      "|   -0.11122692289778197|\n",
      "+-----------------------+\n",
      "\n",
      "+-----------------------+\n",
      "|corr(Country, Severity)|\n",
      "+-----------------------+\n",
      "|                   null|\n",
      "+-----------------------+\n",
      "\n",
      "+------------------------+\n",
      "|corr(Timezone, Severity)|\n",
      "+------------------------+\n",
      "|                    null|\n",
      "+------------------------+\n",
      "\n",
      "+----------------------------+\n",
      "|corr(Airport_Code, Severity)|\n",
      "+----------------------------+\n",
      "|                        null|\n",
      "+----------------------------+\n",
      "\n",
      "+------------------------------+\n",
      "|corr(Temperature(F), Severity)|\n",
      "+------------------------------+\n",
      "|          -0.02913248455008...|\n",
      "+------------------------------+\n",
      "\n",
      "+-----------------------------+\n",
      "|corr(Wind_Chill(F), Severity)|\n",
      "+-----------------------------+\n",
      "|         -0.07999347906498078|\n",
      "+-----------------------------+\n",
      "\n",
      "+---------------------------+\n",
      "|corr(Humidity(%), Severity)|\n",
      "+---------------------------+\n",
      "|       0.023188257770357334|\n",
      "+---------------------------+\n",
      "\n",
      "+----------------------------+\n",
      "|corr(Pressure(in), Severity)|\n",
      "+----------------------------+\n",
      "|         0.01828875326149736|\n",
      "+----------------------------+\n",
      "\n",
      "+------------------------------+\n",
      "|corr(Visibility(mi), Severity)|\n",
      "+------------------------------+\n",
      "|          -0.00613617515156...|\n",
      "+------------------------------+\n",
      "\n"
     ]
    }
   ],
   "source": [
    "# Correlation matrix\n",
    "\n",
    "from pyspark.sql import functions as fn\n",
    "US_accidents_df.select(fn.corr('City', 'Severity')).show()\n",
    "US_accidents_df.select(fn.corr('County', 'Severity')).show()\n",
    "US_accidents_df.select(fn.corr('State', 'Severity')).show()\n",
    "US_accidents_df.select(fn.corr('Zipcode', 'Severity')).show()\n",
    "US_accidents_df.select(fn.corr('Country', 'Severity')).show()\n",
    "US_accidents_df.select(fn.corr('Timezone', 'Severity')).show()\n",
    "US_accidents_df.select(fn.corr('Airport_Code', 'Severity')).show()\n",
    "US_accidents_df.select(fn.corr('Temperature(F)', 'Severity')).show()\n",
    "US_accidents_df.select(fn.corr('Wind_Chill(F)', 'Severity')).show()\n",
    "US_accidents_df.select(fn.corr('Humidity(%)', 'Severity')).show()\n",
    "US_accidents_df.select(fn.corr('Pressure(in)', 'Severity')).show()\n",
    "US_accidents_df.select(fn.corr('Visibility(mi)', 'Severity')).show()\n",
    "\n",
    "from pyspark.ml.stat import Correlation\n",
    "from pyspark.ml.linalg import Vectors\n",
    "from pyspark.ml.feature import VectorAssembler\n",
    "from pyspark.mllib.stat import Statistics\n",
    "\n",
    "#features = US_accidents_df.map(lambda row: row[0:])\n",
    "\n",
    "#corr_mat = Statistics.corr(features, method = \"pearson\")\n",
    "#correlation_matrix = pd.DataFrame({'City': corr_mat[:, 0], 'County': corr_mat[:, 1], 'State': corr_mat[:, 2], \n",
    "#                                   'Zipcode': corr_mat[:, 3], 'Country': corr_mat[:, 4], \n",
    "#                                   'Timezone': corr_mat[:, 5], 'Airport_Code': corr_mat[:, 6], \n",
    "#                                   'Weather_Timestamp': corr_mat[:, 7], 'Temperature(F)': corr_mat[:, 8],\n",
    "#                                  'Wind_Chill(F)': corr_mat[:, 9], 'Humidity(%)': corr_mat[:, 10], \n",
    "#                                   'Pressure(in)': corr_mat[:, 11], 'Visibility(mi)': corr_mat[:, 12]})\n",
    "\n",
    "#correlation_matrix.head()"
   ]
  },
  {
   "cell_type": "code",
   "execution_count": 10,
   "metadata": {},
   "outputs": [],
   "source": [
    "#dropping all columns but Humidity and pressure\n",
    "US_accidents_df = US_accidents_df.select(\"Severity\", \"Humidity(%)\", \"Pressure(in)\")"
   ]
  },
  {
   "cell_type": "code",
   "execution_count": 12,
   "metadata": {},
   "outputs": [
    {
     "data": {
      "image/png": "[encoded data removed]",
      "text/plain": [
       "<Figure size 360x360 with 1 Axes>"
      ]
     },
     "metadata": {
      "needs_background": "light"
     },
     "output_type": "display_data"
    }
   ],
   "source": [
    "import matplotlib.pyplot as plt \n",
    "\n",
    "# plot a scatter plot  \n",
    "accidents_pandas_df = US_accidents_df.toPandas()  \n",
    "y = accidents_pandas_df['Severity']     \n",
    "x = accidents_pandas_df['Humidity(%)']\n",
    "plt.rcParams['figure.figsize'] = (5,5)\n",
    "plt.scatter(x,y)\n",
    "plt.xticks(rotation=90)\n",
    "plt.xlabel('Humidity(%)')\n",
    "plt.ylabel('Severity')\n",
    "plt.title('Effect of humidity on severity of accidents')\n",
    "plt.show()"
   ]
  },
  {
   "cell_type": "code",
   "execution_count": 13,
   "metadata": {},
   "outputs": [
    {
     "data": {
      "image/png": "[encoded data removed]",
      "text/plain": [
       "<Figure size 360x360 with 1 Axes>"
      ]
     },
     "metadata": {
      "needs_background": "light"
     },
     "output_type": "display_data"
    }
   ],
   "source": [
    "# plot a scatter plot  \n",
    "accidents_pandas_df = US_accidents_df.toPandas()  \n",
    "y = accidents_pandas_df['Severity']     \n",
    "x = accidents_pandas_df['Pressure(in)']\n",
    "plt.rcParams['figure.figsize'] = (5,5)\n",
    "plt.scatter(x,y)\n",
    "plt.xticks(rotation=90)\n",
    "plt.xlabel('Pressure(in)')\n",
    "plt.ylabel('Severity')\n",
    "plt.title('Effect of pressure on severity of accidents')\n",
    "plt.show()"
   ]
  }
 ],
 "metadata": {
  "kernelspec": {
   "display_name": "Python 3",
   "language": "python",
   "name": "python3"
  },
  "language_info": {
   "codemirror_mode": {
    "name": "ipython",
    "version": 3
   },
   "file_extension": ".py",
   "mimetype": "text/x-python",
   "name": "python",
   "nbconvert_exporter": "python",
   "pygments_lexer": "ipython3",
   "version": "3.7.4"
  }
 },
 "nbformat": 4,
 "nbformat_minor": 2
}
